{
 "cells": [
  {
   "cell_type": "markdown",
   "metadata": {
    "tags": []
   },
   "source": [
    "# This is a Jupyter Notebook\n",
    "\n",
    "Jupyter notebooks are made of cells that can be *executed*.\n",
    "\n",
    "There are two main types of cells, **markdown** and **code**.\n",
    "\n",
    "## Markdown Cells\n",
    "\n",
    "A markdown cell contains text that can be readily formatted using a common syntax known as markdown. This cell is a markdown cell. If you double click on this cell, it will show you the raw code that produces the formatted text. To go back to the formatted view of the cell you can hit `shift+Enter` on your keyboard or push the play button above.\n",
    "\n",
    "A quick and dirty markdown cheatsheet is available here: [https://github.com/adam-p/markdown-here/wiki/Markdown-Cheatsheet]\n",
    "\n",
    "A few notable features of markdown:\n",
    "- Easy formatting of headers, emphasis, lists, etc.\n",
    "- Easily include links, images, tables, and even YouTube videos.\n",
    "- Easily embed HTML code for advanced formatting of text and images.\n",
    "- Use LaTeX syntax for inclusion of mathematical formulas: [https://ashki23.github.io/markdown-latex.html#latex]"
   ]
  },
  {
   "cell_type": "markdown",
   "metadata": {
    "tags": []
   },
   "source": [
    "## Code Cells\n",
    "\n",
    "Code cells are meant to be executed by the python interpreter. The cell below is a code cell, executing it will will give you the result of 2 + 2 = 4."
   ]
  },
  {
   "cell_type": "code",
   "execution_count": null,
   "metadata": {
    "tags": []
   },
   "outputs": [],
   "source": [
    "2+2"
   ]
  },
  {
   "cell_type": "markdown",
   "metadata": {},
   "source": [
    "An important note on code cells: The python interpreter (aka the python kernel) will keep track of every code cell that you execute in the specific order in which it is executed. Every time you execute a code cell it will show it's place in the history of commands inside square brackets, e.g., the first code cell executed will show `[1]` on the left. If there's no number inside the square bracket, then the code cell has not been executed yet. \n",
    "\n",
    "Executed cells may also display plots:"
   ]
  },
  {
   "cell_type": "code",
   "execution_count": null,
   "metadata": {
    "tags": []
   },
   "outputs": [],
   "source": [
    "%matplotlib inline\n",
    "import seaborn as sns\n",
    "sns.set_theme(style=\"ticks\", palette=\"pastel\")\n",
    "\n",
    "# Load the example tips dataset\n",
    "tips = sns.load_dataset(\"tips\")\n",
    "\n",
    "# Draw a nested boxplot to show bills by day and time\n",
    "sns.boxplot(x=\"day\", y=\"total_bill\",\n",
    "            hue=\"smoker\", palette=[\"m\", \"g\"],\n",
    "            data=tips)"
   ]
  },
  {
   "cell_type": "markdown",
   "metadata": {
    "tags": []
   },
   "source": [
    "Or display **interactive widgets** that allow you to manipulate visualizations directly in the notebook without needing external programs:"
   ]
  },
  {
   "cell_type": "code",
   "execution_count": null,
   "metadata": {
    "tags": []
   },
   "outputs": [],
   "source": [
    "import nglview\n",
    "view = nglview.demo()\n",
    "view"
   ]
  },
  {
   "cell_type": "markdown",
   "metadata": {},
   "source": [
    "Drag the protein above to change the view. Hovering over a particular portion of the protein shows the residue number."
   ]
  },
  {
   "cell_type": "markdown",
   "metadata": {},
   "source": [
    "## A crash course on Python\n",
    "> **This is a modified sample chapter from [Learning IPython for Interactive Computing and Data Visualization, second edition](http://ipython-books.github.io/minibook/).**\n",
    "\n",
    "If you don't know Python, read this section to learn the fundamentals. Python is a very accessible language. If you have ever programmed, it will only take you a few minutes to learn the basics.\n",
    "\n",
    "### Hello world\n",
    "Execute the cell bellow to use the python print command to show a string of text:"
   ]
  },
  {
   "cell_type": "code",
   "execution_count": null,
   "metadata": {
    "tags": []
   },
   "outputs": [],
   "source": [
    "print(\"Hello world!\")"
   ]
  },
  {
   "cell_type": "markdown",
   "metadata": {},
   "source": [
    "Congratulations! You are now a Python programmer."
   ]
  },
  {
   "cell_type": "markdown",
   "metadata": {},
   "source": [
    "### Variables\n",
    "Let's use Python as a calculator."
   ]
  },
  {
   "cell_type": "code",
   "execution_count": null,
   "metadata": {
    "tags": []
   },
   "outputs": [],
   "source": [
    "2 * 2"
   ]
  },
  {
   "cell_type": "markdown",
   "metadata": {},
   "source": [
    "Here, `2 * 2` is an _expression statement_. This operation is performed, the result is returned, and IPython displays it in the notebook cell's output.\n",
    "\n",
    "> TIP (Division): In Python 3, `3 / 2` returns `1.5` (floating-point division), whereas it returns `1` in Python 2 (integer division). This can be source of errors when porting Python 2 code to Python 3. It is recommended to always use the explicit `3.0 / 2.0` for floating-point division (by using floating-point numbers) and `3 // 2` for integer division. Both syntaxes work in Python 2 and Python 3. See http://python3porting.com/differences.html#integer-division for more details.\n",
    "\n",
    "Other built-in mathematical operators include `+`, `-`, `**` for the exponentiation, and others. You will find more details at https://docs.python.org/3/reference/expressions.html#the-power-operator.\n",
    "\n",
    "**Variables** form a fundamental concept of any programming language. A variable has a name and a value. Here is how to create a new variable in Python:"
   ]
  },
  {
   "cell_type": "code",
   "execution_count": null,
   "metadata": {
    "tags": []
   },
   "outputs": [],
   "source": [
    "a = 2"
   ]
  },
  {
   "cell_type": "markdown",
   "metadata": {},
   "source": [
    "And here is how to use an existing variable:"
   ]
  },
  {
   "cell_type": "code",
   "execution_count": null,
   "metadata": {
    "tags": []
   },
   "outputs": [],
   "source": [
    "a * 3"
   ]
  },
  {
   "cell_type": "markdown",
   "metadata": {},
   "source": [
    "Several variables can be defined at once (this is called **unpacking**):"
   ]
  },
  {
   "cell_type": "code",
   "execution_count": null,
   "metadata": {
    "tags": []
   },
   "outputs": [],
   "source": [
    "a, b = 2, 6"
   ]
  },
  {
   "cell_type": "markdown",
   "metadata": {},
   "source": [
    "There are different types of variables. Here, we have used a number (more precisely, an **integer**). Other important types include **floating-point numbers** to represent real numbers, **strings** to represent text, and **booleans** to represent `True/False` values. Here are a few examples:"
   ]
  },
  {
   "cell_type": "code",
   "execution_count": null,
   "metadata": {
    "tags": []
   },
   "outputs": [],
   "source": [
    "somefloat = 3.1415\n",
    "sometext = 'pi is about'  # You can also use double quotes.\n",
    "print(sometext, somefloat)  # Display several variables."
   ]
  },
  {
   "cell_type": "markdown",
   "metadata": {},
   "source": [
    "Note how we used the `#` character to write **comments**. Whereas Python discards the comments completely, adding comments in the code is important when the code is to be read by other humans (including yourself in the future).\n",
    "\n",
    "### String escaping\n",
    "\n",
    "String escaping refers to the ability to insert special characters in a string. For example, how can you insert `'` and `\"`, given that these characters are used to delimit a string in Python code? The backslash `\\` is the go-to escape character in Python (and in many other languages too). Here are a few examples:"
   ]
  },
  {
   "cell_type": "code",
   "execution_count": null,
   "metadata": {
    "tags": []
   },
   "outputs": [],
   "source": [
    "print(\"Hello \\\"world\\\"\")\n",
    "print(\"A list:\\n* item 1\\n* item 2\")\n",
    "print(\"C:\\\\path\\\\on\\\\windows\")\n",
    "print(r\"C:\\path\\on\\windows\")"
   ]
  },
  {
   "cell_type": "markdown",
   "metadata": {},
   "source": [
    "The special character `\\n` is the **new line** (or line feed) character. To insert a backslash, you need to escape it, which explains why it needs to be doubled as `\\\\`.\n",
    "\n",
    "You can also disable escaping by using **raw literals** with a `r` prefix before the string, like in the last example above. In this case, backslashes are considered as normal characters.\n",
    "\n",
    "This is convenient when writing Windows paths, since Windows uses backslash separators instead of forward slashes like on Unix systems. **A very common error on Windows is forgetting to escape backslashes in paths**: writing `\"C:\\path\"` may lead to subtle errors.\n",
    "\n",
    "You will find the list of special characters in Python at https://docs.python.org/3.4/reference/lexical_analysis.html#string-and-bytes-literals\n",
    "\n",
    "### Lists\n",
    "\n",
    "A list contains a sequence of items. You can concisely instruct Python to perform repeated actions on the elements of a list. Let's first create a list of numbers:"
   ]
  },
  {
   "cell_type": "code",
   "execution_count": null,
   "metadata": {
    "tags": []
   },
   "outputs": [],
   "source": [
    "items = [1, 3, 0, 4, 1]"
   ]
  },
  {
   "cell_type": "markdown",
   "metadata": {},
   "source": [
    "Note the syntax we used to create the list: square brackets `[]`, and commas `,` to separate the items.\n",
    "\n",
    "The *built-in* function `len()` returns the number of elements in a list:"
   ]
  },
  {
   "cell_type": "code",
   "execution_count": null,
   "metadata": {
    "tags": []
   },
   "outputs": [],
   "source": [
    "len(items)"
   ]
  },
  {
   "cell_type": "markdown",
   "metadata": {},
   "source": [
    "> INFO (Built-in functions): Python comes with a set of built-in functions, including `print()`, `len()`, `max()`, functional routines like `filter()` and `map()`, and container-related routines like `all()`, `any()`, `range()` and `sorted()`. You will find the full list of built-in functions at https://docs.python.org/3.4/library/functions.html.\n",
    "\n",
    "Now, let's compute the sum of all elements in the list. Python provides a _built-in_ function for this:"
   ]
  },
  {
   "cell_type": "code",
   "execution_count": null,
   "metadata": {
    "tags": []
   },
   "outputs": [],
   "source": [
    "sum(items)"
   ]
  },
  {
   "cell_type": "markdown",
   "metadata": {},
   "source": [
    "We can also access individual elements in the list, using the following syntax:"
   ]
  },
  {
   "cell_type": "code",
   "execution_count": null,
   "metadata": {
    "tags": []
   },
   "outputs": [],
   "source": [
    "items[0]"
   ]
  },
  {
   "cell_type": "code",
   "execution_count": null,
   "metadata": {
    "tags": []
   },
   "outputs": [],
   "source": [
    "items[-1]"
   ]
  },
  {
   "cell_type": "markdown",
   "metadata": {},
   "source": [
    "Note that indexing starts at `0` in Python: the first element of the list is indexed by `0`, the second by `1`, and so on. Also, `-1` refers to the last element, `-2`, to the penultimate element, and so on.\n",
    "\n",
    "The same syntax can be used to alter elements in the list:"
   ]
  },
  {
   "cell_type": "code",
   "execution_count": null,
   "metadata": {
    "tags": []
   },
   "outputs": [],
   "source": [
    "items[1] = 9\n",
    "items"
   ]
  },
  {
   "cell_type": "markdown",
   "metadata": {},
   "source": [
    "We can access sublists with the following syntax:"
   ]
  },
  {
   "cell_type": "code",
   "execution_count": null,
   "metadata": {
    "tags": []
   },
   "outputs": [],
   "source": [
    "items[1:3]"
   ]
  },
  {
   "cell_type": "markdown",
   "metadata": {},
   "source": [
    "Here, `1:3` represents a **slice** going from element `1` _included_ (this is the second element of the list) to element `3` _excluded_. Thus, we get a sublist with the second and third element of the original list. The first-included/last-excluded asymmetry leads to an intuitive treatment of overlaps between consecutive slices. Also, note that a sublist refers to a dynamic *view* of the original list, not a copy; changing elements in the sublist automatically changes them in the original list.\n",
    "\n",
    "Python provides several other types of containers:\n",
    "\n",
    "**Tuples** are immutable (i.e., they cannot be modified once they are defined) and contain a fixed number of elements:"
   ]
  },
  {
   "cell_type": "code",
   "execution_count": null,
   "metadata": {
    "tags": []
   },
   "outputs": [],
   "source": [
    "my_tuple = (1, 2, 3)\n",
    "my_tuple[1]"
   ]
  },
  {
   "cell_type": "markdown",
   "metadata": {},
   "source": [
    "**Dictionaries** contain key-value pairs. They are extremely useful and common:"
   ]
  },
  {
   "cell_type": "code",
   "execution_count": null,
   "metadata": {
    "tags": []
   },
   "outputs": [],
   "source": [
    "my_dict = {'a': 1, 'b': 2, 'c': 3}\n",
    "print('a:', my_dict['a'])"
   ]
  },
  {
   "cell_type": "code",
   "execution_count": null,
   "metadata": {
    "tags": []
   },
   "outputs": [],
   "source": [
    "print(my_dict.keys())"
   ]
  },
  {
   "cell_type": "markdown",
   "metadata": {},
   "source": [
    "There is no notion of order in a dictionary. However, the native **collections** module provides an `OrderedDict` structure that keeps the insertion order (see https://docs.python.org/3.4/library/collections.html).\n",
    "\n",
    "**Sets**, like mathematical sets, contain distinct elements:"
   ]
  },
  {
   "cell_type": "code",
   "execution_count": null,
   "metadata": {
    "tags": []
   },
   "outputs": [],
   "source": [
    "my_set = set([1, 2, 3, 2, 1])\n",
    "my_set"
   ]
  },
  {
   "cell_type": "markdown",
   "metadata": {},
   "source": [
    "> INFO (Mutable and immutable objects): A Python object is **mutable** if its value can change after it has been created. Otherwise, it is **immutable**. For example, a string is immutable; to change it, a new string needs to be created. A list, a dictionary, or a set is mutable; elements can be added or removed. By contrast, a tuple is immutable, and it is not possible to change the elements it contains without recreating the tuple. See https://docs.python.org/3.4/reference/datamodel.html for more details.\n",
    "\n",
    "### Loops\n",
    "\n",
    "We can run through all elements of a list using a `for` loop:"
   ]
  },
  {
   "cell_type": "code",
   "execution_count": null,
   "metadata": {
    "tags": []
   },
   "outputs": [],
   "source": [
    "for item in items:\n",
    "    print(item)"
   ]
  },
  {
   "cell_type": "markdown",
   "metadata": {},
   "source": [
    "There are several things to note here:\n",
    "\n",
    "* The `for item in items` syntax means that a temporary variable named `item` is created at every iteration. This variable contains the value of every item in the list, one at a time.\n",
    "* Note the colon `:` at the end of the `for` statement. Forgetting it will lead to a syntax error!\n",
    "* The statement `print(item)` will be executed for all items in the list.\n",
    "* Note the four spaces before `print`: this is called the **indentation**. You will find more details about indentation in the next subsection.\n",
    "\n",
    "Python supports a concise syntax to perform a given operation on all elements of a list:"
   ]
  },
  {
   "cell_type": "code",
   "execution_count": null,
   "metadata": {
    "tags": []
   },
   "outputs": [],
   "source": [
    "squares = [item * item for item in items]\n",
    "squares"
   ]
  },
  {
   "cell_type": "markdown",
   "metadata": {},
   "source": [
    "This is called a **list comprehension**. A new list is created here; it contains the squares of all numbers in the list. This concise syntax leads to highly readable and *Pythonic* code."
   ]
  },
  {
   "cell_type": "markdown",
   "metadata": {},
   "source": [
    "### Indentation - VERY IMPORTANT!!!\n",
    "\n",
    "Indentation refers to the spaces that may appear at the beginning of some lines of code. This is a particular aspect of Python's syntax.\n",
    "\n",
    "In most programming languages, indentation is optional and is generally used to make the code visually clearer. But in Python, indentation also has a syntactic meaning. Particular indentation rules need to be followed for Python code to be correct.\n",
    "\n",
    "In general, there are two ways to indent some text: by inserting a *tab character* (also referred as `\\t`), or by inserting a number of spaces (typically, four). It is recommended to use spaces instead of tab characters. Your text editor should be configured such that the *Tabular* key on the keyboard inserts four spaces instead of a tab character.\n",
    "\n",
    "In the Notebook, indentation is automatically configured properly; so you shouldn't worry about this issue. The question only arises if you use another text editor for your Python code.\n",
    "\n",
    "Finally, what is the meaning of indentation? In Python, indentation delimits coherent blocks of code, for example, the contents of a loop, a conditional branch, a function, and other objects. Where other languages such as C or JavaScript use curly braces to delimit such blocks, Python uses indentation.\n",
    "\n",
    "### Conditional branches\n",
    "\n",
    "Sometimes, you need to perform different operations on your data depending on some condition. For example, let's display all even numbers in our list:"
   ]
  },
  {
   "cell_type": "code",
   "execution_count": null,
   "metadata": {},
   "outputs": [],
   "source": [
    "for item in items:\n",
    "    if item % 2 == 0:\n",
    "        print(item)"
   ]
  },
  {
   "cell_type": "markdown",
   "metadata": {},
   "source": [
    "Again, here are several things to note:\n",
    "\n",
    "* An `if` statement is followed by a boolean expression.\n",
    "* If `a` and `b` are two integers, the **modulo** operand `a % b` returns the remainder from the division of `a` by `b`. Here, `item % 2` is 0 for even numbers, and 1 for odd numbers.\n",
    "* The equality is represented by a double equal sign `==` to avoid confusion with the _assignment_ operator `=` that we use when we create variables.\n",
    "* Like with the `for` loop, the `if` statement ends with a colon `:`.\n",
    "* The part of the code that is executed when the condition is satisfied follows the `if` statement. It is indented. Indentation is cumulative: since this `if` is inside a `for` loop, there are eight spaces before the `print(item)` statement.\n",
    "\n",
    "Python supports a concise syntax to select all elements in a list that satisfy certain properties. Here is how to create a sublist with only even numbers:"
   ]
  },
  {
   "cell_type": "code",
   "execution_count": null,
   "metadata": {
    "tags": []
   },
   "outputs": [],
   "source": [
    "even = [item for item in items if item % 2 == 0]\n",
    "even"
   ]
  },
  {
   "cell_type": "markdown",
   "metadata": {},
   "source": [
    "This is also a form of list comprehension.\n",
    "\n",
    "### Functions\n",
    "\n",
    "Code is typically organized into functions. A **function** encapsulates part of your code. Functions allow you to reuse bits of functionality without copy-pasting the code. Here is a function that tells whether an integer number is even or not:"
   ]
  },
  {
   "cell_type": "code",
   "execution_count": null,
   "metadata": {
    "tags": []
   },
   "outputs": [],
   "source": [
    "def is_even(number):\n",
    "    \"\"\"Return whether an integer is even or not.\"\"\"\n",
    "    return number % 2 == 0"
   ]
  },
  {
   "cell_type": "markdown",
   "metadata": {},
   "source": [
    "There are several things to note here:\n",
    "\n",
    "* A function is defined with the `def` keyword.\n",
    "* After `def` comes the function name. A general convention in Python is to only use lowercase characters, and separate words with an underscore `_`. A function name generally starts with a verb.\n",
    "* The function name is followed by parentheses, with one or several variable names called the **arguments**. These are the **inputs** of the function. There is a single argument here, named `number`.\n",
    "* No type is specified for the argument. This is because Python is **dynamically typed**; you could pass a variable of any type. This function would work fine with floating point numbers, for example (the modulo operation works with floating point numbers in addition to integers).\n",
    "* The body of the function is indented (and note the colon `:` at the end of the `def` statement).\n",
    "* There is a **docstring** wrapped by triple quotes `\"\"\"`. This is a particular form of comment that explains what the function does. It is not mandatory, but it is strongly recommended to write docstrings for the functions exposed to the user.\n",
    "* The `return` keyword in the body of the function specifies the **output** of the function. Here, the output is a Boolean, obtained from the expression `number % 2 == 0`. It is possible to return several values; just use a comma to separate them (in this case, a tuple of Booleans would be returned).\n",
    "\n",
    "Once a function is defined, it can be called like this:"
   ]
  },
  {
   "cell_type": "code",
   "execution_count": null,
   "metadata": {
    "tags": []
   },
   "outputs": [],
   "source": [
    "is_even(3)"
   ]
  },
  {
   "cell_type": "code",
   "execution_count": null,
   "metadata": {
    "tags": []
   },
   "outputs": [],
   "source": [
    "is_even(4)"
   ]
  },
  {
   "cell_type": "markdown",
   "metadata": {},
   "source": [
    "Here, 3 and 4 are successively passed as arguments to the function.\n",
    "\n",
    "### Positional and keyword arguments\n",
    "\n",
    "A Python function can accept an arbitrary number of arguments, called **positional arguments**. It can also accept optional named arguments, called **keyword arguments**. Here is an example:"
   ]
  },
  {
   "cell_type": "code",
   "execution_count": null,
   "metadata": {
    "tags": []
   },
   "outputs": [],
   "source": [
    "def remainder(number, divisor=2):\n",
    "    return number % divisor"
   ]
  },
  {
   "cell_type": "markdown",
   "metadata": {},
   "source": [
    "The second argument of this function, `divisor`, is optional. If it is not provided by the caller, it will default to the number 2, as show here:"
   ]
  },
  {
   "cell_type": "code",
   "execution_count": null,
   "metadata": {
    "tags": []
   },
   "outputs": [],
   "source": [
    "remainder(5)"
   ]
  },
  {
   "cell_type": "markdown",
   "metadata": {},
   "source": [
    "There are two equivalent ways of specifying a keyword argument when calling a function:"
   ]
  },
  {
   "cell_type": "code",
   "execution_count": null,
   "metadata": {
    "tags": []
   },
   "outputs": [],
   "source": [
    "remainder(5, 3)"
   ]
  },
  {
   "cell_type": "code",
   "execution_count": null,
   "metadata": {
    "tags": []
   },
   "outputs": [],
   "source": [
    "remainder(5, divisor=3)"
   ]
  },
  {
   "cell_type": "markdown",
   "metadata": {},
   "source": [
    "In the first case, `3` is understood as the second argument, `divisor`. In the second case, the name of the argument is given explicitly by the caller. This second syntax is clearer and less error-prone than the first one.\n",
    "\n",
    "Functions can also accept arbitrary sets of positional and keyword arguments, using the following syntax:"
   ]
  },
  {
   "cell_type": "code",
   "execution_count": null,
   "metadata": {
    "tags": []
   },
   "outputs": [],
   "source": [
    "def f(*args, **kwargs):\n",
    "    print(\"Positional arguments:\", args)\n",
    "    print(\"Keyword arguments:\", kwargs)"
   ]
  },
  {
   "cell_type": "code",
   "execution_count": null,
   "metadata": {
    "tags": []
   },
   "outputs": [],
   "source": [
    "f(1, 2, c=3, d=4)"
   ]
  },
  {
   "cell_type": "markdown",
   "metadata": {},
   "source": [
    "Inside the function, `args` is a tuple containing positional arguments, and `kwargs` is a dictionary containing keyword arguments.\n",
    "\n",
    "### Passage by assignment\n",
    "\n",
    "When passing a parameter to a Python function, a *reference* to the object is actually passed (**passage by assignment**):\n",
    "\n",
    "* If the passed object is mutable, it can be modified by the function.\n",
    "* If the passed object is immutable, it cannot be modified by the function.\n",
    "\n",
    "Here is an example:"
   ]
  },
  {
   "cell_type": "code",
   "execution_count": null,
   "metadata": {
    "tags": []
   },
   "outputs": [],
   "source": [
    "my_list = [1, 2]\n",
    "\n",
    "def add(some_list, value):\n",
    "    some_list.append(value)\n",
    "\n",
    "add(my_list, 3)\n",
    "my_list"
   ]
  },
  {
   "cell_type": "markdown",
   "metadata": {},
   "source": [
    "The function `add()` modifies an object defined outside it (in this case, the object `my_list`); we say this function has **side-effects**. A function with no side-effects is called a **pure function**: it doesn't modify anything in the outer context, and it deterministically returns the same result for any given set of inputs. Pure functions are to be preferred over functions with side-effects.\n",
    "\n",
    "Knowing this can help you spot out subtle bugs. There are further related concepts that are useful to know, including function scopes, naming, binding, and more. Here are a couple of links:\n",
    "\n",
    "* Passage by reference at https://docs.python.org/3/faq/programming.html#how-do-i-write-a-function-with-output-parameters-call-by-reference\n",
    "* Naming, binding, and scope at https://docs.python.org/3.4/reference/executionmodel.html\n",
    "\n",
    "### Errors\n",
    "\n",
    "Let's discuss about errors in Python. As you learn, you will inevitably come across errors and exceptions. The Python interpreter will most of the time tell you what the problem is, and where it occurred. It is important to understand the vocabulary used by Python so that you can more quickly find and correct your errors.\n",
    "\n",
    "Let's see an example:"
   ]
  },
  {
   "cell_type": "code",
   "execution_count": null,
   "metadata": {
    "tags": []
   },
   "outputs": [],
   "source": [
    "def divide(a, b):\n",
    "    return a / b"
   ]
  },
  {
   "cell_type": "code",
   "execution_count": null,
   "metadata": {
    "tags": []
   },
   "outputs": [],
   "source": [
    "divide(1, 0)"
   ]
  },
  {
   "cell_type": "markdown",
   "metadata": {},
   "source": [
    "Here, we defined a `divide()` function, and called it to divide 1 by 0. Dividing a number by 0 is an error in Python. Here, a `ZeroDivisionError` **exception** was raised. An exception is a particular type of error that can be raised at any point in a program. It is propagated from the innards of the code up to the command that launched the code. It can be caught and processed at any point. You will find more details about exceptions at https://docs.python.org/3/tutorial/errors.html, and common exception types at https://docs.python.org/3/library/exceptions.html#bltin-exceptions.\n",
    "\n",
    "The error message you see contains the **stack trace** and the exception's type and message. The stack trace shows all functions calls between the raised exception and the script calling point.\n",
    "\n",
    "The top frame, indicated by the first arrow `---->`, shows the entry point of the code execution. Here, it is `divide(1, 0)` which was called directly in the Notebook. The error occurred while this function was called.\n",
    "\n",
    "The next and last frame is indicated by the second arrow. It corresponds to line 2 in our function `divide(a, b)`. It is the last frame in the stack trace: this means that the error occurred there.\n",
    "\n",
    "We will see later in this chapter how to **debug** such errors interactively in IPython and in the Jupyter Notebook. Knowing how to navigate up and down in the stack trace is critical when debugging complex Python code."
   ]
  },
  {
   "cell_type": "markdown",
   "metadata": {},
   "source": [
    "### Object-oriented programming\n",
    "\n",
    "**Object-oriented programming** (or OOP) is a relatively advanced topic. Although we won't use it much in this book, it is useful to know the basics. Also, mastering OOP is often essential when you start to have a large code base.\n",
    "\n",
    "In Python, everything is an **object**. A number, a string, a function is an object. An object is an instance of a **type** (also known as *class*). An object has **attributes** and **methods**, as specified by its type. An attribute is a variable bound to an object, giving some information about it. A method is a function that applies to the object.\n",
    "\n",
    "For example, the object `'hello'` is an instance of the built-in `str` type (string). The `type()` function returns the type of an object, as shown here:"
   ]
  },
  {
   "cell_type": "code",
   "execution_count": null,
   "metadata": {
    "tags": []
   },
   "outputs": [],
   "source": [
    "type('hello')"
   ]
  },
  {
   "cell_type": "markdown",
   "metadata": {},
   "source": [
    "There are native types, like `str` or `int` (integer), and custom types, also called classes, that can be created by the user.\n",
    "\n",
    "In IPython, you can discover the attributes and methods of any object with the dot syntax and tab completion. For example, typing `'hello'.u` and pressing *Tab* automatically shows us the existence of the `upper()` method:"
   ]
  },
  {
   "cell_type": "code",
   "execution_count": null,
   "metadata": {
    "tags": []
   },
   "outputs": [],
   "source": [
    "'hello'.upper()"
   ]
  },
  {
   "cell_type": "markdown",
   "metadata": {},
   "source": [
    "Here, `upper()` is a method available to all `str` objects; it returns an uppercase copy of a string.\n",
    "\n",
    "A useful string method is `format()`. This simple and convenient templating system lets you generate strings dynamically:"
   ]
  },
  {
   "cell_type": "code",
   "execution_count": null,
   "metadata": {
    "tags": []
   },
   "outputs": [],
   "source": [
    "'Hello {0:s}!'.format('Python')"
   ]
  },
  {
   "cell_type": "markdown",
   "metadata": {},
   "source": [
    "The `{0:s}` syntax means \"replace this with the first argument of `format()` which should be a string\". The variable type after the colon is especially useful for numbers, where you can specify how to display the number (for example, `.3f` to display three decimals). The `0` makes it possible to replace a given value several times in a given string. You can also use a name instead of a position, for example `'Hello {name}!'.format(name='Python')`.\n",
    "\n",
    "Some methods are prefixed with an underscore `_`; they are private and are generally not meant to be used directly. IPython's tab completion won't show you these private attributes and methods unless you explicitly type `_` before pressing *Tab*.\n",
    "\n",
    "In practice, the most important thing to remember is that appending a dot `.` to any Python object and pressing *Tab* in IPython will show you a lot of functionality pertaining to that object."
   ]
  },
  {
   "cell_type": "markdown",
   "metadata": {},
   "source": [
    "### Python 2 and 3"
   ]
  },
  {
   "cell_type": "markdown",
   "metadata": {},
   "source": [
    "Let's finish this section with a few notes about Python 2 and Python 3 compatibility issues.\n",
    "\n",
    "There are still some Python 2 code and libraries that are not compatible with Python 3. Therefore, it is sometimes useful to be aware of the differences between the two versions. One of the most obvious differences is that `print` is a statement in Python 2, whereas it is a function in Python 3. Therefore, `print \"Hello\"` (without parentheses) works in Python 2 but not in Python 3, while `print(\"Hello\")` works in both Python 2 and Python 3.\n",
    "\n",
    "There are several non-mutually exclusive options to write portable code that works with both versions:\n",
    "\n",
    "* **futures**: a builtin module supporting backward-incompatible Python syntax\n",
    "* **2to3**: a builtin Python module to port Python 2 code to Python 3\n",
    "* **six**: an external lightweight library for writing compatible code\n",
    "\n",
    "Here are a few references:\n",
    "\n",
    "* Official Python 2/3 wiki page at https://wiki.python.org/moin/Python2orPython3\n",
    "* *Porting to Python 3* book at http://python3porting.com/bookindex.html\n",
    "* 2to3 at https://docs.python.org/3.4/library/2to3.html\n",
    "* six at https://pythonhosted.org/six/\n",
    "* futures at https://docs.python.org/3.4/library/__future__.html\n",
    "* The IPython Cookbook contains an in-depth recipe about choosing between Python 2 and 3, and how to support both."
   ]
  },
  {
   "cell_type": "markdown",
   "metadata": {},
   "source": [
    "\n",
    "### Going beyond the basics"
   ]
  },
  {
   "cell_type": "markdown",
   "metadata": {},
   "source": [
    "Finally, here are a few references:"
   ]
  },
  {
   "cell_type": "markdown",
   "metadata": {},
   "source": [
    "* Getting started with Python: https://www.python.org/about/gettingstarted/\n",
    "* A Python tutorial: https://docs.python.org/3/tutorial/index.html\n",
    "* The Python Standard Library: https://docs.python.org/3/library/index.html\n",
    "* Interactive tutorial: http://www.learnpython.org/\n",
    "* Codecademy Python course: http://www.codecademy.com/tracks/python\n",
    "* Language reference (expert level): https://docs.python.org/3/reference/index.html\n",
    "* Python Cookbook, by David Beazley and Brian K. Jones, O'Reilly Media (advanced level, highly recommended if you want to become a Python expert)."
   ]
  }
 ],
 "metadata": {
  "kernelspec": {
   "display_name": "Python 3 (ipykernel)",
   "language": "python",
   "name": "python3"
  },
  "language_info": {
   "codemirror_mode": {
    "name": "ipython",
    "version": 3
   },
   "file_extension": ".py",
   "mimetype": "text/x-python",
   "name": "python",
   "nbconvert_exporter": "python",
   "pygments_lexer": "ipython3",
   "version": "3.11.7"
  }
 },
 "nbformat": 4,
 "nbformat_minor": 4
}
