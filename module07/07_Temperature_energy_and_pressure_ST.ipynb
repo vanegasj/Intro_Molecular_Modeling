{
 "cells": [
  {
   "cell_type": "markdown",
   "id": "7094e26c-f154-4187-ad7c-c22553fdafc9",
   "metadata": {},
   "source": [
    "# Module 7 - Temperature, Energy, Pressure and Simulation Ensembles"
   ]
  },
  {
   "cell_type": "markdown",
   "id": "31be5dda-84d9-40ab-9c3f-2a2c66e796c8",
   "metadata": {},
   "source": [
    "# Goals\n",
    "\n",
    "- Learn how to define the energy, temperature, and pressure of a simulated system\n",
    "- Learn about methods to keep temperature and pressure constant in MD simulations"
   ]
  },
  {
   "cell_type": "markdown",
   "id": "96fe107b-c469-43bf-8fa9-66bdd510a961",
   "metadata": {},
   "source": [
    "# Kinetic, Potential, and Total Energy\n",
    "\n",
    "The total energy, $E$, of a molecular system is equal to the sum of the potential, $V$, and kinetic, $K$, energies, $E=V+K$. The kinetic energy can be obtained from the masses, $m_i$, and velocities, $v_i$, of particles in the system\n",
    "\n",
    "$$ K = \\frac{1}{2}\\sum^N_i m_i v_i^2,$$\n",
    "\n",
    "where $N$ is the total number of particles. Similarly, the potential energy can be obtained from the particle positions based on the interatomic potential(s) acting on the system:\n",
    "\n",
    "$$ V = \\sum^N_i \\sum^N_{j>i} V_{ij}(r_{ij}),$$\n",
    "\n",
    "where $r_{ij}=|\\vec{r}_i-\\vec{r}_j|$ is the distance between two particles $i$ and $j$.\n",
    "\n",
    "The temperature of a molecular system may be defined from the equipartition theorem as\n",
    "\n",
    "$$ T = \\frac{1}{N_{\\mathrm{dof}}k_{\\mathrm{B}}} \\sum^N_i m_i v_i^2,$$\n",
    "\n",
    "where $k_{\\mathrm{B}}$ is the Boltzmann constant and $N_{\\mathrm{dof}}$ is the *number of degrees of freedom*. While it may be tempting to think that $N_{\\mathrm{dof}}$ is just equal to the number of particles, one must also take care of removing degrees of freedom that are lost to for example removing the center of mass motion, $v_{\\mathrm{COM}=0}$, or the use of rigid bond constraints.\n",
    "\n",
    "Similarly, the pressure is defined as\n",
    "\n",
    "$$ P = \\frac{1}{3V} \\left( \\sum^N_i \\sum^N_{j>i} f_{ij} ~ r_{ij} + \\sum^N_i m_i v_i^2 \\right),$$\n",
    "\n",
    "where $f_{ij}$ is the interaction force between two particles. Note that the equation above is for the *scalar* pressure, but in general the pressure is a tensor,\n",
    "\n",
    "$$ \\boldsymbol{P} = \\begin{bmatrix}\n",
    "P_{xx} & P_{xy} & P_{xz} \\\\\n",
    "P_{yx} & P_{yy} & P_{yz} \\\\\n",
    "P_{zx} & P_{zy} & P_{zz} \n",
    "\\end{bmatrix}. $$\n",
    "\n",
    "The scalar pressure is obtained from the trace of the pressure tensor, $P=(P_{xx}+P_{yy}+P_{zz})/3$. The general equation for the pressure tensor in vector notation is\n",
    "\n",
    "$$ \\boldsymbol{P} = \\frac{1}{V} \\left( \\sum^N_i \\sum^N_{j>i} \\boldsymbol{f}_{ij} \\otimes \\boldsymbol{r}_{ij} + \\sum^N_i m_i \\boldsymbol{v}_i \\otimes \\boldsymbol{v}_i \\right).$$\n",
    "\n",
    "Note that in many physics and engineering fields they define the stress tensor, $\\boldsymbol{\\sigma}=-\\boldsymbol{P}$, instead of the pressure. The choice between these two quantities is a matter of mathematical convenience on whether to characterize the forces that the surroundings exert on a body vs. the forces that the body exerts on its surrounding."
   ]
  },
  {
   "cell_type": "markdown",
   "id": "ed0e900c-5543-46be-a075-6268ccca854c",
   "metadata": {},
   "source": [
    "## Let's compute the Energy, Pressure, and Temperature for our solid Argon system!!"
   ]
  },
  {
   "cell_type": "code",
   "execution_count": null,
   "id": "3dfdde3c-8de0-466e-9f60-21c94620c718",
   "metadata": {
    "tags": []
   },
   "outputs": [],
   "source": [
    "# Let's import all the methods we'll need later on\n",
    "from ase.lattice.cubic import FaceCenteredCubic\n",
    "from ase import units\n",
    "from ase.calculators.lj import LennardJones as LJ\n",
    "from ase.md.velocitydistribution import MaxwellBoltzmannDistribution,Stationary\n",
    "from ase.md.verlet import VelocityVerlet\n",
    "from ase.visualize import view\n",
    "from ase.io.trajectory import Trajectory\n",
    "from ase.md.nptberendsen import NVTBerendsen,NPTBerendsen\n",
    "import numpy as np\n",
    "import matplotlib.pyplot as plt"
   ]
  },
  {
   "cell_type": "markdown",
   "id": "d9b61272-421e-4c27-b397-f96e36082fa3",
   "metadata": {},
   "source": [
    "We'll start by creating our Ar crystal as before, adding the Lennard-Jones calculator, setting the initial velocities from the Maxwell-Boltzmann distribution, and initializing the `md` object using the `VelocityVerlet` method."
   ]
  },
  {
   "cell_type": "code",
   "execution_count": null,
   "id": "df24f73d-99d3-4eb8-a0ce-b41ca1d5c280",
   "metadata": {
    "tags": []
   },
   "outputs": [],
   "source": [
    "# Set up the crystal, which will be stored in an object called 'Ar_atoms'\n",
    "# Our system is made of 2x2x2 unit cells with a total of 32 atoms (4 atoms per unit cell).\n",
    "Ar_atoms = FaceCenteredCubic(directions=[[1, 0, 0], [0, 1, 0], [0, 0, 1]],\n",
    "                             symbol='Ar',\n",
    "                             latticeconstant=5.25*units.Ang,\n",
    "                             size=(2, 2, 2),\n",
    "                             pbc=True)\n",
    "\n",
    "# Describe the interatomic interactions using a Lennard-Jones potential\n",
    "Ar_atoms.calc = LJ(sigma=3.4*units.Ang, epsilon=0.9889744*units.kJ/units.mol, rc=15*units.Ang)\n",
    "\n",
    "# Set the initial particle velocities using a Maxwell-Boltzmann distribution for a given temperature\n",
    "MaxwellBoltzmannDistribution(atoms=Ar_atoms, temperature_K=40)\n",
    "Stationary(Ar_atoms)\n",
    "\n",
    "# Setup an md instance based on our `Ar_atoms` object\n",
    "md = VelocityVerlet(atoms=Ar_atoms, timestep=5, trajectory='md.traj', loginterval=10)  # 5 fs time step."
   ]
  },
  {
   "cell_type": "markdown",
   "id": "b930d99a-94c3-449b-b434-96387e38d755",
   "metadata": {},
   "source": [
    "Before executing the MD simulation, we are going to create a function called `get_props()` which will extract the potential, kinetic, and total energies as well as the temperature and pressure at any given step in the simulation. To do this, we will make use of several methods that are built-in into all ASE `atoms` objects which will extract a given quantity for a particular configuration, e.g., `atoms.get_potential_energy()` or `atoms.get_temperature()`. Note that ASE computes the stress tensor and stores it in a 6x1 array, $\\boldsymbol{\\sigma}=[\\sigma_{xx},\\sigma_{yy},\\sigma_{zz},\\sigma_{xy},\\sigma_{xz},\\sigma_{yz}]$. We need the first 3 elements of the stress tensor to compute the scalar pressure for our system.\n",
    "\n",
    "The function `get_props()` will be 'attached' to the md object and it will append the data to an empty list which we can use later to plot the results. "
   ]
  },
  {
   "cell_type": "code",
   "execution_count": null,
   "id": "d02a1e5a-c463-406a-893d-3bc3fd174142",
   "metadata": {
    "tags": []
   },
   "outputs": [],
   "source": [
    "props=[]\n",
    "def get_props(md=md, a=Ar_atoms, props=props):\n",
    "    PE = a.get_potential_energy()*96 # Unit conversion from eV to kJ/mol\n",
    "    KE = a.get_kinetic_energy()*96\n",
    "    E = a.get_total_energy()*96\n",
    "    T = a.get_temperature()\n",
    "    stress = a.get_stress()*1602176.6208 # Unit conversion from eV/A^3 to atmospheres\n",
    "    P = -(stress[0]+stress[1]+stress[2])/3.0 # Compute the scalar pressure from the stress tensor\n",
    "    time = md.get_time()\n",
    "    props.append([time,PE,KE,E,T,P])\n",
    "\n",
    "# Attach the get_props() function so that it computes our quantities at a given interval\n",
    "md.attach(get_props, interval=1)\n",
    "\n",
    "# we call get_props() once before running md to get the properties for the very first time step\n",
    "get_props()\n",
    "\n",
    "# run the simulation\n",
    "md.run(100)"
   ]
  },
  {
   "cell_type": "code",
   "execution_count": null,
   "id": "7d0e3a96-28ce-4334-a6dc-a4e7f1348f2e",
   "metadata": {
    "tags": []
   },
   "outputs": [],
   "source": [
    "props =np.array(props) # convert to a numpy array before plotting\n",
    "\n",
    "# Plot the energies\n",
    "plt.figure()\n",
    "plt.xlabel('Time (fs)')\n",
    "plt.ylabel('Energy (kJ/mol)')\n",
    "plt.plot(props[:,0], props[:,1], label='Potential Energy')\n",
    "plt.plot(props[:,0], props[:,2], label='Kinetic Energy')\n",
    "plt.plot(props[:,0], props[:,3], label='Total Energy')\n",
    "plt.legend()"
   ]
  },
  {
   "cell_type": "code",
   "execution_count": null,
   "id": "397f7404-461f-4dd2-8c49-f95320deba51",
   "metadata": {
    "tags": []
   },
   "outputs": [],
   "source": [
    "# Plot temperature\n",
    "plt.figure()\n",
    "plt.xlabel('Time (fs)')\n",
    "plt.ylabel('Temperature (K)')\n",
    "plt.plot(props[:,0], props[:,4])\n",
    "\n",
    "# Plot pressure\n",
    "plt.figure()\n",
    "plt.xlabel('Time (fs)')\n",
    "plt.ylabel('Pressure (atm)')\n",
    "plt.plot(props[:,0], props[:,5])"
   ]
  },
  {
   "cell_type": "markdown",
   "id": "43a3dc55-1f2e-42ea-a2d0-93c7ce9b3e5f",
   "metadata": {},
   "source": [
    "<div class=\"span alert alert-success\">\n",
    "<h2> Programming challenge </h2>\n",
    "    \n",
    "Copy the working code above and paste it in the cell below. Modify it to drive the formation of a liquid/gas phase by increasing the lattice constant by 15% and the initial temperature to 120 K. Plot the energies, temperature, and pressure for this liquid system."
   ]
  },
  {
   "cell_type": "code",
   "execution_count": null,
   "id": "c3fd6b7f-6abe-4748-90b9-fd9ee9ea16f8",
   "metadata": {
    "tags": []
   },
   "outputs": [],
   "source": []
  },
  {
   "cell_type": "markdown",
   "id": "e5ca857c-11bc-4848-8b2a-c986ffec30f4",
   "metadata": {},
   "source": [
    "<div class=\"span alert alert-success\">\n",
    "<h2> Programming challenge </h2>\n",
    "    \n",
    "Explore changing the value of the lattice constant between 5-15% of the original lattice size as well as the initial temperature between 100-150 K. Running 100 simulation steps should be suffcient. Re-plot the energies, temperature, and pressure for this liquid system. Use the trajectory visualization to also see how the system behaves."
   ]
  },
  {
   "cell_type": "markdown",
   "id": "0ea447cb-281b-45dc-9d1c-804d53dc4326",
   "metadata": {
    "tags": []
   },
   "source": [
    "## Dynamics and Ensemble averages\n",
    "\n",
    "In MD simulations we 'watch' the evolution a system of interest over time by integrating Newton's equations of motion. The time trajectories that result from an MD simulation can provide useful insights into the dynamics of the system as well as average properties. To compute average properties, we assume that our time trajectory is effectively exploring the configurational/conformational space available to our system. Therefore, we can compute thermodynamic averages by taking a time average of an observable of interest ($A$, e.g., energy)\n",
    "\n",
    "\\begin{align}\n",
    "    \\langle A \\rangle = \\frac{1}{N_t}\\sum_{n}^{N_t} A(t_n),\n",
    "\\end{align}\n",
    "\n",
    "where $t_n$ is a specific time of the trajectory (likely sampled uniformly), $A(t_n)$ is the value of the observable at that sepcific time, and $N_t$ is the total number time frames sampled. We use this time average to take place of the thermodynamic average\n",
    "\n",
    "\\begin{align}\n",
    "    \\langle A \\rangle = \\sum_{i} P(E_i) A(E_i)\n",
    "\\end{align}\n",
    "\n",
    "as long as we have adequate sampling and our system is at equilibrium. \n",
    "\n",
    "## Equilibration\n",
    "\n",
    "It is often difficult to start a simulation from a configuration that is close to equilibrium. Therefore, there is an initial time period in most MD simulations where the system properties are continuously changing until they reach a steady state where properties fluctuate around a given value without drifting away. The length of equilibration phase will depend on the physical properties of the system as well as simulation conditions. Time averages of any propertie of interest should exclude this equilibration period and only use trajectory frames where the system is in a steady state."
   ]
  },
  {
   "cell_type": "markdown",
   "id": "cc00e66d-3324-4c31-9399-adc0d67a325f",
   "metadata": {},
   "source": [
    "<div class=\"span alert alert-success\">\n",
    "<h2> Programming challenge </h2>\n",
    "    \n",
    "Compute the average value of the energies, temperature, and pressure. Use the numpy array slicing and methods to compute these. For example, to get the mean value of an array called `A` you can use the command `A.mean()`. To compute the mean of only a certain subset of the data, say the last 50 elements, use slicing, `A[50:].mean()`. Compare your average values to histograms of the data using the matplotlib `plt.hist(A)` method. Do your average values agree with the histograms? What happens if you use all the time data including the equilibration period?"
   ]
  },
  {
   "cell_type": "code",
   "execution_count": null,
   "id": "2413e54f-82fb-449b-817f-dfcf0259767c",
   "metadata": {
    "tags": []
   },
   "outputs": [],
   "source": []
  },
  {
   "cell_type": "markdown",
   "id": "5bf9b934-a968-42dd-a4cd-1406509ccfc9",
   "metadata": {},
   "source": [
    "## Temperature and Pressure Control\n",
    "\n",
    "The temperature and pressure in a simulation can be controlled by algorithms known as **thermostats** and **barostats**. A thermostat acts like a 'heat bath' that controls the temperature so that it remains near a desired value. A simple example of a thermostating algorithm is known as the **isokinetic or Gaussian thermostat**, which is broken into 3 steps:\n",
    "\n",
    "- Compute the future velocities ($v(t+\\Delta t$) using an algorithm such as Verlet or velocity-Verlet\n",
    "- Compute the the temperature of the future timestep, $T(t+\\Delta t)$\n",
    "- Re-scale the futuure velocities using the relation $v^{\\mathrm{new}}(t+\\Delta t)=\\sqrt{\\frac{T_{\\mathrm{ref}}}{T(t+\\Delta t)}}v(t+\\Delta t)$\n",
    "- Remove the center of mass velocity in order to prevent drifting of the system in space (the flying ice cube problem)\n",
    "\n",
    "While the isokinetic thermostat is effective in keeping the temperature fixed at some reference value, it can lead to numerous problems including abrupt changes in the velocities and improper sampling of the energy. Sampling of the energy is very important as statistical mechanics indicates that a system that is under a constant temperature, constant number of particles, and constant volume ($NVT$, also known as the canonical ensemble) must have certain properties. For a system in the canonical ensemble, the energy will not be constant but it will fluctuate around and equilibrium value $\\langle E \\rangle$. The fluctuations in the energy, $\\langle E^2 \\rangle$, are also determined by the canonical ensemble.\n",
    "\n",
    "Most thermostats don't try fix the temperature so that the instantaneous value is constant at every time step, but instead gently adjust the kinetic energy at given intervals so that the average temperature, $\\langle T \\rangle$, oscillates near a desired value with some characteristic oscillation time, $\\tau_T$. A complete discussion on various thermostating techiques is beyond the scope our class. A widely used thermostat that fulfills all our desired qualities (correct average energy and fluctuations as well as fast relaxation to the correct temperature) is the **stochastic velocity-rescaling** algorithm by Bussi, Donadio, and Parrinello (J. Chem. Phys. 126, 2007, 014101. https://doi.org/10.1063/1.2408420)\n",
    "\n",
    "Analogous to a thermostat, a barostat maintains the average pressure of system constant by effectively coupling the simulation cell to a 'piston' that changes the size accordingly. When running an MD simulation under constant number of particles, constant pressure, and constant temperature, it is said to be in the isothermal-isobaric ensemble ($NPT$). Most barostats don't try fix the pressure so that the instantaneous value is constant at every time step, but instead gently adjust the simulation cell dimensions (and sometimes the positions/veloities) at given intervals so that the average pressure, $\\langle P \\rangle$ oscillates near a desired value with some characteristic oscillation time, $\\tau_P$. Similarly to the canonical ensemble, a system in the isothermal-isobaric ensemble will have a volume that oscillates around an equilibrium value, $\\langle V \\rangle$, and will have certain volume fluctuations, $\\langle V^2 \\rangle$. A recently developed barostat that fulfills all our desired qualities (correct average volume and fluctuations as well as fast relaxation to the correct pressure) is **the stochastic cell-rescaling** algorithm by Bernetti and Bussi (J. Chem. Phys. 153, 2020, 114107. https://doi.org/10.1063/5.0020514).\n",
    "\n",
    "## References for a Complete Discussion of Thermostats and Barostats\n",
    "\n",
    "*Statistical Mechanics: Theory and Molecular Simulation* by Mark Tuckerman\n",
    "\n",
    "*Understanding Molecular Simulation: From Algorithms to Applications* by Frenkel and Smit"
   ]
  },
  {
   "cell_type": "markdown",
   "id": "895eae6c-0b4c-49e6-a234-bf925a09fe6a",
   "metadata": {},
   "source": [
    "## GROMACS!!\n",
    "\n",
    "<img src=\"https://www.gromacs.org/_static/gmx_logo_blue.png\" width=600px>\n",
    "\n",
    "Given the speed limitations of the built-in algorithms in ASE, we will explore the effects of thermostats and barostats on our systems using the open-source GROMACS simulation package (https://www.gromacs.org/). GROMACS (GRoningen MAchine for Chemical Simulations) is a collection of tools for setting up, running, and analyzing MD simulations. GROMACS was originally developed at the University of Groningen by Herman Berendsen and others. It's current development is led by researchers at the KTH-Royal Institute of Technology and Uppsala University in Sweden. GROMACS is one of the fastest MD simulation packages due to its highly hardware optimized algorithms."
   ]
  },
  {
   "cell_type": "markdown",
   "id": "9d8db317-6fae-4da3-b9da-467754a58ccf",
   "metadata": {},
   "source": [
    "## Running a simulation in GROMACS\n",
    "\n",
    "To run a simulation in GROMACS you need a *minimum* of 3 components:\n",
    "\n",
    "- Structure file that has the starting positions (and sometimes velocities) of your system of interest. This is usully a .pdb (protein databank format) or .gro (GROMACS format) file\n",
    "- Topology file(s) that describe the interatomic potential interactions. These are simple text files with .itp or .top extensions which describe the types of interactions (e.g., Lennard-Jones, electrostatics, bonds, etc.), number of molecules/atoms in the system, etc.\n",
    "- MD parameters file (.mdp). This text file contains all the simulation parameters including the time step, number of steps, integration algorithm, temperature, pressure, etc.\n",
    "\n",
    "Before running the MD simulation, we must parse them first by the command `gmx grompp`, which is the GROMACS pre-processor. `gmx grompp` checks that the text inputs are free of errors and that the chosen parameters are physically reasonable. If the command is successful, it will produce a binary file with an extension .tpr. The produced binary .tpr file can then be used by `gmx mdrun` to run our MD simulation"
   ]
  }
 ],
 "metadata": {
  "kernelspec": {
   "display_name": "Python 3 (ipykernel)",
   "language": "python",
   "name": "python3"
  },
  "language_info": {
   "codemirror_mode": {
    "name": "ipython",
    "version": 3
   },
   "file_extension": ".py",
   "mimetype": "text/x-python",
   "name": "python",
   "nbconvert_exporter": "python",
   "pygments_lexer": "ipython3",
   "version": "3.11.7"
  }
 },
 "nbformat": 4,
 "nbformat_minor": 5
}
