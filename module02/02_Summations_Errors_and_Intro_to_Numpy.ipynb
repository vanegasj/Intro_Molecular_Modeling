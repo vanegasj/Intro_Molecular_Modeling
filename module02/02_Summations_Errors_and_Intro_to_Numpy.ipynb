{
 "cells": [
  {
   "cell_type": "markdown",
   "metadata": {},
   "source": [
    "# Module 1 - Basic Summations, Errors, and Intro to NumPy\n",
    "\n",
    "## Goals\n",
    "* Write a set of functions that calculate commonly used mathematical expressions ($e^x$ and $\\pi$) using basic python constructs\n",
    "* Learn about convergence and cancellation errors\n",
    "\n",
    "## Tools we need\n",
    "* Python for loops and if statemets\n",
    "* Python functions\n",
    "* Basic error assesment\n",
    "* Dive into NumPy"
   ]
  },
  {
   "cell_type": "markdown",
   "metadata": {},
   "source": [
    "## How do we tell python to calculate $e^x$ ?"
   ]
  },
  {
   "cell_type": "markdown",
   "metadata": {},
   "source": [
    "Recursive algorithm using Taylor sum:\n",
    "\n",
    "\\begin{align}\n",
    "e^x &= 1 + x + \\frac{x^2}{2!} + \\frac{x^3}{3!} + \\dots \\\\\n",
    "    &= \\sum_{n=0}^{\\infty}\\frac{x^n}{n!}\n",
    "\\end{align}\n",
    "\n",
    "<div class=\"span alert alert-success\">\n",
    "<h2> Programming challenge </h2>\n",
    "Write a simple code that calculates $e^x$ using 100 terms of the Taylor sum. Use the built-in python factorial math function, `from math import factorial`, and a for loop, `for n in range(start,stop,step):`. Print the result to screen using the python `print` function. \n",
    "</div>"
   ]
  },
  {
   "cell_type": "code",
   "execution_count": 18,
   "metadata": {
    "tags": []
   },
   "outputs": [
    {
     "name": "stdout",
     "output_type": "stream",
     "text": [
      "1.0\n",
      "3.0\n",
      "9.0\n",
      "33.0\n",
      "153.0\n",
      "873.0\n",
      "5913.0\n",
      "46233.0\n",
      "409113.0\n"
     ]
    }
   ],
   "source": [
    "# Example for computing and writing the sum of consecutive factorials \n",
    "from math import factorial          # import the factorial function from the built-in python math module\n",
    "sum = 0.0                           # declare the variable that will store the sum and set it to 0\n",
    "N = 10                              # the number of terms in our sum\n",
    "for n in range(1,N):                # use a for loop to iterate over a sequential range from 1 to N\n",
    "    sum = sum + factorial(n)        # call the factorial function that we imported earlier\n",
    "\n",
    "    print(sum)                      # print the current value of sum"
   ]
  },
  {
   "cell_type": "markdown",
   "metadata": {
    "tags": []
   },
   "source": [
    ">TIP: If you want to learn more about the usage of a python function or its syntax, you can use the help command. For example to learn about the `range` command type `help(range)` in a code cell and execute it:"
   ]
  },
  {
   "cell_type": "code",
   "execution_count": null,
   "metadata": {},
   "outputs": [],
   "source": [
    "help(range)"
   ]
  },
  {
   "cell_type": "code",
   "execution_count": 19,
   "metadata": {
    "code_folding": [],
    "tags": []
   },
   "outputs": [
    {
     "name": "stdout",
     "output_type": "stream",
     "text": [
      "148.41315910257657\n"
     ]
    }
   ],
   "source": [
    "## write your own code here to compute exp(x) ##\n",
    "# note that in python raising a number to a power uses a special syntax\n",
    "# 2 to the power of 3 in python is written as 2**3\n",
    "\n",
    "from math import factorial          # import the factorial function from the built-in python math module \n",
    "N = 100                             # Number of terms in the summation\n",
    "sum = 1.0                           # Initial value of the summation, n=0 term\n",
    "x = 5.0                             # exponent\n",
    "for n in range(1,N):                # for loop that iterates over the values from 1 to N\n",
    "    sum = sum + x**n/factorial(n)\n",
    "\n",
    "print(sum)                          # this print statement is outside the loop"
   ]
  },
  {
   "cell_type": "markdown",
   "metadata": {},
   "source": [
    "<div class=\"span alert alert-success\">\n",
    "<h2> Programming challenge </h2>\n",
    "Convert the code above into a function that calculates $e^x$ for any x, `myexp(x)`.\n",
    "</div>"
   ]
  },
  {
   "cell_type": "code",
   "execution_count": 20,
   "metadata": {
    "tags": []
   },
   "outputs": [
    {
     "name": "stdout",
     "output_type": "stream",
     "text": [
      "9\n"
     ]
    }
   ],
   "source": [
    "# Example of a function that computes the square of a number\n",
    "def myfunc(x):\n",
    "    c = x*x\n",
    "    return c\n",
    "\n",
    "print(myfunc(3))"
   ]
  },
  {
   "cell_type": "code",
   "execution_count": 21,
   "metadata": {
    "code_folding": [],
    "tags": []
   },
   "outputs": [
    {
     "name": "stdout",
     "output_type": "stream",
     "text": [
      "2.7182815255731922\n",
      "2.7182818284590455\n"
     ]
    }
   ],
   "source": [
    "## write your own code here ##\n",
    "def myexp(x, N=100):          # the second input value is given with a default value\n",
    "    sum = 1\n",
    "    nterm = 1\n",
    "    for n in range(1,N):\n",
    "        nterm *= x/n          # shorthand for nterm = nterm * x/n\n",
    "        sum += nterm          # shorthand for sum = sum + nterm\n",
    "    return sum\n",
    "\n",
    "print(myexp(1.0,10))\n",
    "print(myexp(1.0))"
   ]
  },
  {
   "cell_type": "markdown",
   "metadata": {},
   "source": [
    "### Let's compare our function with python's built-in function\n",
    "We can plot the value of our function and compare to the built-in one in the `numpy` library using the `matplotlib` library. The easiest way to get started making plots with `matplotlib` is to import the `pylab` module "
   ]
  },
  {
   "cell_type": "code",
   "execution_count": 22,
   "metadata": {
    "tags": []
   },
   "outputs": [
    {
     "data": {
      "text/plain": [
       "[<matplotlib.lines.Line2D at 0x7efd25cd37d0>]"
      ]
     },
     "execution_count": 22,
     "metadata": {},
     "output_type": "execute_result"
    },
    {
     "data": {
      "image/png": "[encoded data removed]",
      "text/plain": [
       "<Figure size 640x480 with 1 Axes>"
      ]
     },
     "metadata": {},
     "output_type": "display_data"
    }
   ],
   "source": [
    "import numpy as np                   # when importing a library you can give it a shorthand name using the as syntax\n",
    "from matplotlib import pylab as plt  # here we are only importing a subset of the matplotlib functions\n",
    "\n",
    "x = np.arange(0,40,0.5)              # create a numpy array of values from 0 to 40 in increments of 0.1 for plotting\n",
    "plt.plot(x, myexp(x))                # create a plot using the first input as the x-values and the second input as the y-values\n",
    "plt.plot(x, np.exp(x), 'o')          # create plot using filled circles and no line"
   ]
  },
  {
   "cell_type": "markdown",
   "metadata": {},
   "source": [
    "### How quickly does the function converge to a reasonable value?\n",
    "We can analyze the convergence of the Taylor sum by calculating the value of $e^x$ for different number of terms.\n",
    "<div class=\"span alert alert-success\">\n",
    "<h2> Programming challenge </h2>\n",
    "Redefine your function `myexp(x)` so that it takes an additional input value, `myexp(x, N)`, that determines the number of terms in the sum.\n",
    "</div>"
   ]
  },
  {
   "cell_type": "code",
   "execution_count": 23,
   "metadata": {
    "code_folding": [],
    "tags": []
   },
   "outputs": [
    {
     "name": "stdout",
     "output_type": "stream",
     "text": [
      "2.7182818284590455\n",
      "2.7182815255731922\n",
      "2.0\n"
     ]
    }
   ],
   "source": [
    "## write your own code here ##\n",
    "def myexp(x, N = 100):       # we can set the default values of input parameters that may be optional\n",
    "    sum = 1\n",
    "    nterm = 1\n",
    "    for n in range(1,N):\n",
    "        nterm *= x/n\n",
    "        sum += nterm\n",
    "    return sum\n",
    "print(myexp(1.0))\n",
    "print(myexp(1.0, 10))\n",
    "print(myexp(1.0, 2))"
   ]
  },
  {
   "cell_type": "markdown",
   "metadata": {},
   "source": [
    "We can explore the convergence more thoroughly with a plot:"
   ]
  },
  {
   "cell_type": "code",
   "execution_count": 24,
   "metadata": {
    "tags": []
   },
   "outputs": [
    {
     "data": {
      "text/plain": [
       "Text(0, 0.5, 'Value of e')"
      ]
     },
     "execution_count": 24,
     "metadata": {},
     "output_type": "execute_result"
    },
    {
     "data": {
      "image/png": "[encoded data removed]",
      "text/plain": [
       "<Figure size 640x480 with 1 Axes>"
      ]
     },
     "metadata": {},
     "output_type": "display_data"
    }
   ],
   "source": [
    "N = np.arange(100)             \n",
    "approx_exp = np.zeros(100)      # Create an empty (all values set to zero) 1D numpy array with 100 elements\n",
    "x = 1.0\n",
    "for n in N:\n",
    "    approx_exp[n] = myexp(x, n)\n",
    "\n",
    "plt.figure()                    # Create a new figure for your plot, otherwise in some cases your new lines will simply be added to the previous plot created\n",
    "plt.plot(N, approx_exp)\n",
    "plt.xlabel('# of iterations')\n",
    "plt.ylabel('Value of e')"
   ]
  },
  {
   "cell_type": "markdown",
   "metadata": {},
   "source": [
    "### What about negative exponents, $e^{-x}$?\n",
    "<div class=\"span alert alert-success\">\n",
    "<h2> Programming challenge </h2>\n",
    "Create a plot comparing the values obtained for your function `myexp(x,N)` to python's built-in function for negative values of $x$ from 0 to -40.\n",
    "</div>"
   ]
  },
  {
   "cell_type": "code",
   "execution_count": 25,
   "metadata": {
    "code_folding": [],
    "tags": []
   },
   "outputs": [
    {
     "data": {
      "text/plain": [
       "Text(0, 0.5, 'exp(-x)')"
      ]
     },
     "execution_count": 25,
     "metadata": {},
     "output_type": "execute_result"
    },
    {
     "data": {
      "image/png": "[encoded data removed]",
      "text/plain": [
       "<Figure size 640x480 with 1 Axes>"
      ]
     },
     "metadata": {},
     "output_type": "display_data"
    }
   ],
   "source": [
    "## write your own code here ##\n",
    "x = np.arange(0,38,0.5)        # Create a numpy array of values from 0 to 40 in increments of 0.1 for plotting\n",
    "plt.figure()                   # Create a new plot. If we ommit this, the new lines will be added to the prev. plot\n",
    "plt.plot(x, myexp(-x))\n",
    "plt.plot(x, np.exp(-x), 'o')\n",
    "plt.xlabel('x')\n",
    "plt.ylabel('exp(-x)')"
   ]
  },
  {
   "cell_type": "markdown",
   "metadata": {},
   "source": [
    "#### Why does our $e^{-x}$ function fail for large values of $x$?"
   ]
  },
  {
   "cell_type": "markdown",
   "metadata": {},
   "source": [
    "The Taylor sum for $e^{-x}$ has terms with alternating sign\n",
    "\n",
    "\\begin{equation}\n",
    "e^{-x} = 1 - x + \\frac{x^2}{2!} - \\frac{x^3}{3!} + \\frac{x^4}{4!} \\dots \\\\\n",
    "\\end{equation}\n",
    "\n",
    "When calculating $e^{-x}$ for large $x$, we have very large terms that sum up to a very small number. At some point the sum runs into the limits of the fixed precission numbers, which results in a **subtractive cancellation** error. How can we correct this?"
   ]
  },
  {
   "cell_type": "code",
   "execution_count": 26,
   "metadata": {
    "code_folding": [],
    "tags": []
   },
   "outputs": [
    {
     "data": {
      "text/plain": [
       "Text(0, 0.5, 'exp(-x)')"
      ]
     },
     "execution_count": 26,
     "metadata": {},
     "output_type": "execute_result"
    },
    {
     "data": {
      "image/png": "[encoded data removed]",
      "text/plain": [
       "<Figure size 640x480 with 1 Axes>"
      ]
     },
     "metadata": {},
     "output_type": "display_data"
    }
   ],
   "source": [
    "# Use 1/e^x instead!\n",
    "x = np.arange(0,38,0.5)\n",
    "plt.figure()\n",
    "plt.plot(x, myexp(-x), 'r-', label=r'$e^{-x}$ - myexp()')\n",
    "plt.plot(x, 1.0/myexp(x), 'b--', label=r'$\\frac{1}{e^x}$')\n",
    "plt.plot(x, np.exp(-x), 'o', label=r'$e^{-x}$ - np.exp()')\n",
    "plt.legend()\n",
    "plt.xlabel('x')\n",
    "plt.ylabel('exp(-x)')"
   ]
  },
  {
   "cell_type": "markdown",
   "metadata": {},
   "source": [
    "## Computing $\\pi$"
   ]
  },
  {
   "cell_type": "markdown",
   "metadata": {},
   "source": [
    "We can use a recursive algorithm with a finite sum just as we did for computing $e^x$. There are two well known formulas for this:\n",
    "\n",
    "**Leibniz accelerated summation**\n",
    "\n",
    "\\begin{equation}\n",
    "\\pi = 4 \\sum_{n=1}^\\infty \\frac{(-1)^{n+1}}{2n-1}\n",
    "\\end{equation}\n",
    "\n",
    "Gottfried Wilhelm Leibniz 1646-1716\n",
    "<img src=\"http://upload.wikimedia.org/wikipedia/commons/6/6a/Gottfried_Wilhelm_von_Leibniz.jpg\" width=150px>\n",
    "\n",
    "**Sharp summation**\n",
    "\n",
    "\\begin{equation}\n",
    "\\pi = \\sum_{n=0}^\\infty \\frac{2(-1)^{n}3^{1/2-n}}{2n+1}\n",
    "\\end{equation}\n",
    "\n",
    "Abraham Sharp 1653-1742\n",
    "<img src=\"http://upload.wikimedia.org/wikipedia/commons/4/43/Sharp_Abraham.jpg\" width=150px>\n",
    "\n",
    "<div class=\"span alert alert-success\">\n",
    "<h2> Programming challenge </h2>\n",
    "Write two functions, `leibniz(N)` and `sharp(N)`, that compute $\\pi$ using the corresponding recursive relations with $N$ iterations. \n",
    "</div>"
   ]
  },
  {
   "cell_type": "code",
   "execution_count": 27,
   "metadata": {
    "tags": []
   },
   "outputs": [
    {
     "name": "stdout",
     "output_type": "stream",
     "text": [
      "Help on function leibniz in module __main__:\n",
      "\n",
      "leibniz(N)\n",
      "    Compute pi via an accelerated Leibniz summation.\n",
      "\n",
      "3.1516934060711166\n"
     ]
    }
   ],
   "source": [
    "# Example\n",
    "def leibniz(N):\n",
    "    '''Compute pi via an accelerated Leibniz summation.'''    # String text shown when using help(function)\n",
    "    lpi = 0.0\n",
    "    for n in range(1,N):\n",
    "        if (n % 2):                # % is the modulus operator, yields the remainder of division by the given number\n",
    "            sign = 1\n",
    "        else:\n",
    "            sign = -1\n",
    "        lpi += 1.0*sign/(2*n-1)\n",
    "    return 4.0*lpi\n",
    "\n",
    "help(leibniz)\n",
    "\n",
    "print(leibniz(100))"
   ]
  },
  {
   "cell_type": "code",
   "execution_count": 28,
   "metadata": {
    "code_folding": [],
    "tags": []
   },
   "outputs": [
    {
     "name": "stdout",
     "output_type": "stream",
     "text": [
      "Help on function sharp in module __main__:\n",
      "\n",
      "sharp(N)\n",
      "    Compute pi via the Sharp summation.\n",
      "\n",
      "3.1415926535897936\n"
     ]
    }
   ],
   "source": [
    "## write your own code here ##\n",
    "def sharp(N):\n",
    "    '''Compute pi via the Sharp summation.'''\n",
    "    spi = 0.0\n",
    "    for n in range(N):\n",
    "        if (n % 2):\n",
    "            sign = -1\n",
    "        else:\n",
    "            sign = 1\n",
    "        num = 2*sign*3**(0.5-n)\n",
    "        denom = 2*n+1\n",
    "        spi += num/denom\n",
    "    return spi\n",
    "\n",
    "help(sharp)\n",
    "\n",
    "print(sharp(100))"
   ]
  },
  {
   "cell_type": "markdown",
   "metadata": {},
   "source": [
    "### How quickly do these approximations converge to the exact value?\n",
    "<div class=\"span alert alert-success\">\n",
    "<h2> Programming challenge </h2>\n",
    "Create a plot comparing the values obtained by your recursive functions, `leibniz(N)` and `sharp(N)` to numpy's built-value of $\\pi$, `np.pi`.\n",
    "</div>"
   ]
  },
  {
   "cell_type": "code",
   "execution_count": 29,
   "metadata": {
    "tags": []
   },
   "outputs": [
    {
     "data": {
      "text/plain": [
       "Text(0, 0.5, 'Value of $\\\\pi$')"
      ]
     },
     "execution_count": 29,
     "metadata": {},
     "output_type": "execute_result"
    },
    {
     "data": {
      "image/png": "[encoded data removed]",
      "text/plain": [
       "<Figure size 640x480 with 1 Axes>"
      ]
     },
     "metadata": {},
     "output_type": "display_data"
    }
   ],
   "source": [
    "terms = 100\n",
    "N = np.arange(terms)             \n",
    "lpi = np.zeros(terms)\n",
    "spi = np.zeros(terms)\n",
    "\n",
    "for n in N:\n",
    "    lpi[n] = leibniz(n)\n",
    "    spi[n] = sharp(n)\n",
    "\n",
    "## write your own code here ##\n",
    "plt.figure()\n",
    "plt.plot(N, lpi, label = 'Leibniz')\n",
    "plt.plot(N, spi, label = 'Sharp')\n",
    "plt.axhline(y=np.pi, color='k', label = 'np.pi - Exact')\n",
    "plt.legend()\n",
    "plt.xlabel('# of iterations')\n",
    "plt.ylabel(r'Value of $\\pi$')"
   ]
  },
  {
   "cell_type": "markdown",
   "metadata": {},
   "source": [
    "## Basic error assessment\n",
    "\n",
    "How do we assess if our recurring algorithms have approach a satisfactory value?\n",
    "\n",
    "### 1. Check error with respect to a known quantity\n",
    "\\begin{equation}\n",
    "    \\mathrm{\\% \\> Error} = 100 \\times\\left| \\frac{\\mathrm{approx}- \\mathrm{exact}}{\\mathrm{exact}} \\right|\n",
    "\\end{equation}"
   ]
  },
  {
   "cell_type": "code",
   "execution_count": 30,
   "metadata": {
    "tags": []
   },
   "outputs": [
    {
     "data": {
      "text/plain": [
       "<matplotlib.legend.Legend at 0x7efd257000d0>"
      ]
     },
     "execution_count": 30,
     "metadata": {},
     "output_type": "execute_result"
    },
    {
     "data": {
      "image/png": "[encoded data removed]",
      "text/plain": [
       "<Figure size 640x480 with 1 Axes>"
      ]
     },
     "metadata": {},
     "output_type": "display_data"
    }
   ],
   "source": [
    "plt.figure()\n",
    "plt.plot(N, 100*(lpi - np.pi)/np.pi, label = 'Leibniz')\n",
    "plt.plot(N, 100*(spi - np.pi)/np.pi, label = 'Sharp')\n",
    "plt.axhline(y=0, color='k')\n",
    "plt.xlabel('Iterations')\n",
    "plt.ylabel('% Error')\n",
    "plt.legend()"
   ]
  },
  {
   "cell_type": "markdown",
   "metadata": {},
   "source": [
    "### 2. Check convergence of algorithm as number of terms increases\n",
    "\n",
    "What if we don't know the exact solution? We can see how much each consecutive term differs from the previous one.\n",
    "\n",
    "\\begin{equation}\n",
    "    \\epsilon(n) = \\left| \\frac{f(n)-f(n-1)}{f(n)} \\right|\n",
    "\\end{equation}\n",
    "\n",
    "<div class=\"span alert alert-success\">\n",
    "<h2> Programming challenge </h2>\n",
    "<br/>\n",
    "Create a plot that shows the relative error after each iteration for all three methods up to 100 iterations.\n",
    "</div>"
   ]
  },
  {
   "cell_type": "code",
   "execution_count": 31,
   "metadata": {
    "tags": []
   },
   "outputs": [
    {
     "data": {
      "text/plain": [
       "<matplotlib.legend.Legend at 0x7efd25621510>"
      ]
     },
     "execution_count": 31,
     "metadata": {},
     "output_type": "execute_result"
    },
    {
     "data": {
      "image/png": "[encoded data removed]",
      "text/plain": [
       "<Figure size 640x480 with 1 Axes>"
      ]
     },
     "metadata": {},
     "output_type": "display_data"
    }
   ],
   "source": [
    "start = 3\n",
    "terms = 100\n",
    "N = np.arange(terms)             \n",
    "lpi_eps = np.zeros(terms)\n",
    "spi_eps = np.zeros(terms)\n",
    "\n",
    "## insert yout code here ##\n",
    "for n in range(start, terms):\n",
    "    lpi_eps[n] = np.abs((leibniz(n) - leibniz(n-1))/leibniz(n))\n",
    "    spi_eps[n] = np.abs((sharp(n) - sharp(n-1))/sharp(n))\n",
    "\n",
    "plt.figure()\n",
    "plt.plot(N, lpi_eps, label = 'Leibniz')\n",
    "plt.plot(N, spi_eps, label = 'Sharp')\n",
    "plt.xlabel('Iterations')\n",
    "plt.ylabel(r'$\\epsilon(n)$')\n",
    "plt.legend()"
   ]
  },
  {
   "cell_type": "markdown",
   "metadata": {},
   "source": [
    "## Dive into NumPy\n",
    "\n",
    "NumPy is a very powerful numerical package for python that provides the following:\n",
    "\n",
    "- **Optimized N-dimensional arrays (not limited to just numbers)**\n",
    "    * Creation of arrays from data (lists or tuples) or prefilled arrays\n",
    "    * Advanced indexing and selection\n",
    "    * Array manipulation (e.g., resize, sort, transpose, etc...)\n",
    "    * Basic array calculations (e.g., min, max, sum, mean, var, etc...)\n",
    "- **Optimized mathematical functions (e.g., exp, log, sin, etc...)**\n",
    "    * Numpy functions work on scalars as well as numpy arrays\n",
    "- **Linear algebra**\n",
    "    * Matrix and vector products\n",
    "    * Norms\n",
    "    * Decompositions\n",
    "    * Eigenvalues and solving equations\n",
    "- **Basic input and output of simple text and binary files**\n",
    "- **Fourier transforms**\n",
    "- **Random sampling (random number generator and distributions)**\n",
    "- **Basic statistics**\n",
    "- **And much more!!!**\n",
    "\n",
    "### Defining NumPy arrays"
   ]
  },
  {
   "cell_type": "code",
   "execution_count": null,
   "metadata": {
    "tags": []
   },
   "outputs": [],
   "source": [
    "x = np.array((0,2,4,5,5,8,10,20)) # create a Numpy array from a list of numbers\n",
    "y = np.array(((0.4,3.6,1.1,25.6),(7.5,2.5,6.78,10.0))) # create a Numpy array from a list of numbers\n",
    "z = np.zeros(10) # create a numpy array of size 10 that is full of zeros\n",
    "zz = np.ones((5,10)) # create a numpy array fo size 5x10 full of ones"
   ]
  },
  {
   "cell_type": "code",
   "execution_count": null,
   "metadata": {
    "tags": []
   },
   "outputs": [],
   "source": [
    "print('Properties of x')\n",
    "print(x)                          # all values in the array\n",
    "print(type(x))                    # python type\n",
    "print(x.dtype)                    # ndarray data type\n",
    "print(len(x))                     # length of the array\n",
    "print(x.shape)                    # shape of the array\n",
    "print(np.shape(x))\n",
    "\n",
    "print('\\nProperties of y')\n",
    "print(y)                          # all values in the array\n",
    "print(type(y))                    # python type\n",
    "print(y.dtype)                    # ndarray data type\n",
    "print(len(y))                     # length of the array\n",
    "print(y.shape)                    # shape of the array\n",
    "\n",
    "print('\\nProperties of z')\n",
    "print(z)                          # all values in the array\n",
    "print(type(z))                    # python type\n",
    "print(z.dtype)                    # ndarray data type\n",
    "print(len(z))                     # length of the array\n",
    "print(z.shape)                    # shape of the array\n",
    "\n",
    "print('\\nProperties of zz')\n",
    "print(zz)                          # all values in the array\n",
    "print(type(zz))                    # python type\n",
    "print(zz.dtype)                    # ndarray data type\n",
    "print(len(zz))                     # length of the array\n",
    "print(zz.shape)                    # shape of the array"
   ]
  },
  {
   "cell_type": "markdown",
   "metadata": {},
   "source": [
    "### Indexing and slicing NumPy arrays"
   ]
  },
  {
   "cell_type": "code",
   "execution_count": null,
   "metadata": {
    "tags": []
   },
   "outputs": [],
   "source": [
    "print(x[0])                       # element 0 in the array\n",
    "\n",
    "x[0] = 1                          # set element 0 to a new value\n",
    "print(x[0])    \n",
    "\n",
    "x[0] = 1.7                        # ndarray type is integer, so numpy will use FLOOR(value) if it is a float\n",
    "print(x[0])\n",
    "\n",
    "# Array slicing - The basic slice syntax is i:j:k where i is the starting index, j is the stopping index,\n",
    "# and k is the step\n",
    "\n",
    "# Negative i and j are interpreted as n + i and n + j where n is the number of elements in the corresponding\n",
    "# dimension. Negative k makes stepping go towards smaller indices.\n",
    "\n",
    "\n",
    "print(x[:])                       # all elements in the array\n",
    "print(x[1:5])                     # elements 1-4 (end index is non-inclusive)\n",
    "print(x[:-1])                     # all elements up the second to last one\n",
    "print(x[::2])                     # every other element in the array starting at 0th element\n",
    "\n",
    "print(\"\\nIndexing and slicing 2D array y\")\n",
    "print(y[:])                       # all elements in the array\n",
    "print(y[:,0])                     # all rows for column 0\n",
    "print(y[:,1:])                    # all rows for columns 1 to last"
   ]
  },
  {
   "cell_type": "markdown",
   "metadata": {},
   "source": [
    "### Basic array transformations"
   ]
  },
  {
   "cell_type": "code",
   "execution_count": null,
   "metadata": {
    "tags": []
   },
   "outputs": [],
   "source": [
    "x = np.array((0,2,4,5,5,8,10,20))\n",
    "print(x.shape)\n",
    "x = x.reshape((2,4))\n",
    "print(x.shape)\n",
    "\n",
    "y = y.transpose()\n",
    "print(y.shape)\n",
    "\n",
    "y = y.flatten()\n",
    "print(y.shape)\n",
    "\n",
    "y = y.reshape((2,4))\n",
    "print(y.shape)"
   ]
  },
  {
   "cell_type": "code",
   "execution_count": null,
   "metadata": {
    "tags": []
   },
   "outputs": [],
   "source": [
    "x *= 10                           # element by element scaling by a factor\n",
    "print(x)\n",
    "\n",
    "y -= 5                            # element by element subtraction\n",
    "print(y)\n",
    "\n",
    "a = x*y                           # element by element multiplication - arrays must have the same size\n",
    "print(a)"
   ]
  },
  {
   "cell_type": "markdown",
   "metadata": {},
   "source": [
    "### Optimized mathematical functions (e.g., exp, log, sin, etc...)"
   ]
  },
  {
   "cell_type": "code",
   "execution_count": null,
   "metadata": {
    "tags": []
   },
   "outputs": [],
   "source": [
    "print(np.sin(0.5))                 # sine of a scalar quantity\n",
    "print(np.sin(y))                   # element by element calculation of sine"
   ]
  },
  {
   "cell_type": "markdown",
   "metadata": {},
   "source": [
    "### Linear Algebra"
   ]
  },
  {
   "cell_type": "code",
   "execution_count": null,
   "metadata": {
    "tags": []
   },
   "outputs": [],
   "source": [
    "x = np.array((0,0,1.0))\n",
    "y = np.array((0,1.0,1.0))\n",
    "z = np.dot(x,y)\n",
    "print(z)"
   ]
  },
  {
   "cell_type": "markdown",
   "metadata": {},
   "source": [
    "### Basic input and output of simple text and binary files"
   ]
  },
  {
   "cell_type": "code",
   "execution_count": null,
   "metadata": {},
   "outputs": [],
   "source": [
    "np.savetxt('file.txt', x)\n",
    "y = np.loadtxt('file.txt')\n",
    "print(y)\n",
    "#help(np.loadtxt)\n",
    "#help(np.savetxt)"
   ]
  },
  {
   "cell_type": "markdown",
   "metadata": {},
   "source": [
    "### Basic string formatting\n",
    "We often want to print information for screen output and/or to a file in the form of text and variables. Python is very flexible and offers many different options. One way to do this is through the Python string formatter `format()` (see https://docs.python.org/3.6/library/string.html for more details). The following examples show some basic usage:"
   ]
  },
  {
   "cell_type": "code",
   "execution_count": null,
   "metadata": {
    "tags": []
   },
   "outputs": [],
   "source": [
    "# Print to standard output\n",
    "print(\"The sum of {0} + {1} = {2}\".format(5, 7, 5+7))\n",
    "print(\"x = {0:d} is a decimal, y = {1:f} is a float, and z = {2:e} uses scientific notation\".format(1, 6.453, 1E-3))\n",
    "print(\"y = {0:6.3f} is a float with width 6 and 3 significant digits\".format(6.45373674))"
   ]
  },
  {
   "cell_type": "code",
   "execution_count": null,
   "metadata": {},
   "outputs": [],
   "source": [
    "# Print to file\n",
    "# note the nextline character, \\n , at the end of each line. This adds a line break after each line is written\n",
    "f = open('workfile.txt', 'w')\n",
    "f.write(\"The sum of {0} + {1} = {2}\\n\".format(5, 7, 5+7))\n",
    "f.write(\"x = {0:d} is a decimal, y = {1:f} is a float, and z = {2:e} uses scientific notation\\n\".format(1, 6.453, 1E-3))\n",
    "f.write(\"y = {0:6.3f} is a float with width 6 and 3 significant digits\\n\".format(6.45373674))\n",
    "f.close()"
   ]
  },
  {
   "cell_type": "markdown",
   "metadata": {},
   "source": [
    "### Numpy help\n",
    "\n",
    "* Jupyter notebook `Help->NumPy` (takes you to https://docs.scipy.org/doc/numpy/reference)\n",
    "* NumPy User Guide - https://docs.scipy.org/doc/numpy/user/index.html\n",
    "* NumPy Quickstart Tutorial - https://docs.scipy.org/doc/numpy/user/quickstart.html"
   ]
  },
  {
   "cell_type": "code",
   "execution_count": null,
   "metadata": {},
   "outputs": [],
   "source": []
  }
 ],
 "metadata": {
  "kernelspec": {
   "display_name": "Python 3 (ipykernel)",
   "language": "python",
   "name": "python3"
  },
  "language_info": {
   "codemirror_mode": {
    "name": "ipython",
    "version": 3
   },
   "file_extension": ".py",
   "mimetype": "text/x-python",
   "name": "python",
   "nbconvert_exporter": "python",
   "pygments_lexer": "ipython3",
   "version": "3.11.7"
  }
 },
 "nbformat": 4,
 "nbformat_minor": 4
}
