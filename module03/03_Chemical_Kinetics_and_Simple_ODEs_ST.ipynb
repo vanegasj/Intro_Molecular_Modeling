{
 "cells": [
  {
   "cell_type": "markdown",
   "metadata": {},
   "source": [
    "# Module 3 - Chemical Kinetics and Solving 1st Order Differential Equations"
   ]
  },
  {
   "cell_type": "markdown",
   "metadata": {},
   "source": [
    "## Goals\n",
    "Use recursive algorithms to solve 1st order ordinary differential equations that govern chemical kinetics over time. This is also applicable to the problem of radiactive decay in physics."
   ]
  },
  {
   "cell_type": "markdown",
   "metadata": {},
   "source": [
    "## Decay/irreversible reactions - continuous model\n",
    "\n",
    "<div style=\"text-align:center\">\n",
    "    <img src=\"https://saylordotorg.github.io/text_the-basics-of-general-organic-and-biological-chemistry/section_23/7129ad4acf8ba59772ab4d1faac5783f.jpg\" width=600px > \n",
    "</div>\n",
    "\n",
    "ATP hydrolysis is an example of a decay or irreversible reaction. The high energy ATP molecule is not stable for long periods of time at room temperature and it will spontaneously decay into ADP and Pi (inorganic phosphate), which releases energy. In the absence of a catalyst such an enzyme and a source of energy, this reaction is essentially irreversible. Many biological processes use the spontaneous decay of ATP as a 'molecular timer' to control the function of proteins such as enzymes. \n",
    "\n",
    "We can represent this process using chemical kinetics\n",
    "\n",
    "\\begin{equation}\n",
    "\\mathrm{ATP} \\longrightarrow \\mathrm{ADP} + \\mathrm{Pi},\n",
    "\\end{equation}\n",
    "\n",
    "which can be modeled by the following set of differential equations:\n",
    "\n",
    "\\begin{align}\n",
    "\\frac{d\\mathrm{[ATP]}}{dt} &= -k \\mathrm{[ATP]}\\\\\n",
    "\\\\\n",
    "\\frac{d\\mathrm{[ADP]}}{dt} &= k \\mathrm{[ATP]}\\\\\n",
    "\\\\\n",
    "\\frac{d\\mathrm{[Pi]}}{dt} &= k \\mathrm{[ATP]}.\n",
    "\\end{align}\n",
    "\n",
    "The last two reactions are a consequence of conservation of mass. The kinetic rate, $k$, is the inverse of the characteristic decay time, $\\tau = \\frac{1}{k}$.\n",
    "\n",
    "Focusing on the concentration of ATP as a function of time, we can solve analytically the first order ordinary differential equation (ODE) using separation of variables and inregration\n",
    "\n",
    "\\begin{align}\n",
    "\\int_{A_0}^{A(t)} \\frac{dA}{A} &= - \\int_0^t k dt \\\\\n",
    "\\\\\n",
    "\\log \\left( \\frac{A(t)}{A_0} \\right) &= -kt \\\\\n",
    "\\\\\n",
    "A(t) &= A_0 \\mathrm{e}^{-kt},\n",
    "\\end{align}\n",
    "\n",
    "where we have used the notation of $A(t) = \\mathrm{[ATP]}(t)$ for simplicity.\n",
    "\n",
    "### Related reading\n",
    "- Chapter 15.2 of Physical Biology of the Cell\n",
    "- Chapter 1 - Giordano (radioactive decay)\n",
    "- Chapter 4.5 - Landau (radioactive decay)\n",
    "<!--http://physics.oregonstate.edu/~landaur/Books/CPbook/eBook/Notebooks/HTML/CP04.html#4.5 (html notebook)\n",
    "http://physics.oregonstate.edu/~landaur/Books/CPbook/eBook/Notebooks/CP04.ipynb (IPython notebook)-->"
   ]
  },
  {
   "cell_type": "code",
   "execution_count": null,
   "metadata": {
    "tags": []
   },
   "outputs": [],
   "source": [
    "## Let's plot solution to our kinetic equation using simplified constants\n",
    "## k = 1 and A_0 = [ATP]_0 = 1\n",
    "\n",
    "import matplotlib.pyplot as plt\n",
    "import numpy as np\n",
    "\n",
    "t = np.arange(0,5,0.1)            # Plot over a time range of 5 characteristic time units\n",
    "plt.plot(t,np.exp(-t))\n",
    "plt.ylabel(r'$A(t)/A_0$')\n",
    "plt.xlabel(r'$t/\\tau$')"
   ]
  },
  {
   "cell_type": "markdown",
   "metadata": {},
   "source": [
    "## A Numerical Approach for the continuous decay model (Giordano Ch. 1)\n",
    "\n",
    "### Question: How do find a discretized solution to the ODE?\n",
    "\n",
    "#### Forward derivative - finite difference equation from Taylor expansion\n",
    "\n",
    "We can discretely solve a generic differential equation of the form\n",
    "\n",
    "\\begin{equation}\n",
    "\\frac{df}{dt}=g(t,f)\n",
    "\\end{equation}\n",
    "\n",
    "using the method of finite differences. Starting with the Taylor expansion of any function around a known point $t$, \n",
    "\n",
    "\\begin{equation}\n",
    "f(t+\\Delta t) = f(t) + \\frac{df}{dt}\\Delta t + \\frac{1}{2} \\frac{d^2 f}{dt^2} \\Delta t^2 + \\mathrm{O}\\left(\\Delta t^3\\right),\n",
    "\\end{equation}\n",
    "\n",
    "we can write a finite diference equation to approximate the first derivative of our function assuming that $\\Delta t \\ll 1$:\n",
    "\n",
    "\\begin{equation}\n",
    "\\frac{df(t)}{dt} \\approx \\frac{f(t+\\Delta t) - f(t)}{\\Delta t},\n",
    "\\end{equation}\n",
    "\n",
    "where the error in the derivative is of order $\\mathrm{O}\\left(\\Delta t^2\\right)$. This finite difference equation is known as the **forward derivative**.\n",
    "\n",
    "### Euler's method - Numerical solution to the first order ODEs\n",
    "\n",
    "We can solve the general ODE problem using the forward difference equation as follows \n",
    "\n",
    "\\begin{align}\n",
    "\\frac{df(t)}{dt} &= g(t,f) \\\\\n",
    "\\\\\n",
    "\\frac{f(t+\\Delta t) - f(t)}{\\Delta t} &= g(t,f) \\\\\n",
    "\\\\\n",
    "f(t+\\Delta t) &\\approx f(t) + g(t,f)\\Delta t.\n",
    "\\end{align}\n",
    "\n",
    "This is known as **Euler's method** (see Appendix A of Giordano and Nakanishi). Using the discrete notation, $t_n = n\\Delta t$ and $f_n=f(t_n)$, our iterative equation becomes\n",
    "\n",
    "\\begin{equation}\n",
    "f_{n+1} \\approx f_n + g_n\\Delta t.\n",
    "\\end{equation}\n",
    "\n",
    "While the error in the derivative was of order $\\mathrm{O}\\left(\\Delta t^2\\right)$, the error in our iterative solution to the ODE is of order $\\mathrm{O}\\left(\\Delta t\\right)$. We can apply Euler's method above to solve our kinetic equations numerically\n",
    "\n",
    "\\begin{align}\n",
    "\\frac{dA(t)}{dt} & = -kA(t) \\\\\n",
    "\\\\\n",
    "\\Rightarrow \\frac{A(t+\\Delta t) - A(t)}{\\Delta t} &\\approx -kA(t) \\\\\n",
    "\\\\\n",
    "A(t+\\Delta t) &\\approx \\left(1-k\\Delta t\\right)A(t) \\\\\n",
    "\\\\\n",
    "A_{n+1} &\\approx \\left(1-k\\Delta t\\right)A_n.\n",
    "\\end{align}  \n",
    "\n",
    "<div class=\"span alert alert-success\">\n",
    "<h2> Programming challenge </h2>\n",
    "<br/>\n",
    "Use Euler's method to solve the continuous ATP decay equation. Euler's method prescribes a well defined way for finding an approximate solution to our unknown function at a later time $t+\\Delta t$ based on the current value of the function. Starting with a known initial value of $A(t=0)$, use a `for` loop to find a solution up to some maximum time $t_{\\mathrm{max}}$. Start with values of $dt = 0.05$, $\\tau = 1.0$, $k=1/\\tau$, $A_0=1.0$ and $t_{\\mathrm{max}}=5.0$. You will need two arrays for storage: one for the solution and a second one for the corresponding times. Create a plot that compares your numerical result to the analytical solution $A(t) = A(0) \\mathrm{e}^{-kt}$. Plot $\\frac{A(t)}{A_0}$ vs $\\frac{t}{\\tau}$ for easier comparison later on.\n",
    "</div>"
   ]
  },
  {
   "cell_type": "code",
   "execution_count": null,
   "metadata": {
    "tags": []
   },
   "outputs": [],
   "source": [
    "dt = 0.05\n",
    "tmax = 5\n",
    "tau = 1.0\n",
    "k = 1.0/tau\n",
    "A0 = 1.0\n",
    "\n",
    "## insert code here ##\n"
   ]
  },
  {
   "cell_type": "markdown",
   "metadata": {},
   "source": [
    "### How does this solution behave for large $\\Delta t$?\n",
    "The error in our numerical solution depends on the choice of $\\Delta t$. We can test the accuracy of our solution for various choices.\n",
    "\n",
    "<div class=\"span alert alert-success\">\n",
    "<h2> Programming challenge </h2>\n",
    "<br/>\n",
    "For simplicity, rewrite the code above as a function, `atp_decay()`, that finds the solution for $A(t)$ given some initial input values such as $A_0$, $\\Delta t$, $t_{\\mathrm{max}}$, and $\\tau$. Use this function in the code below to compare the numerical solutions for given values of $\\Delta t=$ 0.05, 0.5, and 1.\n",
    "</div>"
   ]
  },
  {
   "cell_type": "code",
   "execution_count": null,
   "metadata": {
    "tags": []
   },
   "outputs": [],
   "source": [
    "def atp_decay(A0, dt, tmax, tau):\n",
    "    ## insert code here ##\n",
    "\n",
    "    ##\n",
    "    return t,A"
   ]
  },
  {
   "cell_type": "code",
   "execution_count": null,
   "metadata": {},
   "outputs": [],
   "source": [
    "plt.figure()\n",
    "tmax = 5\n",
    "colors = ('b', 'g', 'r')                      # tuple with the list of colors to be used in the plot\n",
    "i = 0\n",
    "\n",
    "for dt in (0.05, 0.5, 1.0):                   # iterate over tuple of time steps\n",
    "    t,A = atp_decay(1.0, dt, 5.0, 1.0)\n",
    "    plt.plot(t/tau, A/A[0],'o',mfc='None',mec=colors[i],label=r'$\\Delta t$ = {0}'.format(dt))  \n",
    "    # used the .format() method to include a numerical value in the string \n",
    "    i+=1\n",
    "\n",
    "t = np.arange(0, tmax, 0.05)\n",
    "plt.plot(t/tau,np.exp(-k*t),'k-')\n",
    "plt.legend()\n",
    "plt.ylabel(r'$A(t)/A_0$')\n",
    "plt.xlabel(r'$t/\\tau$')\n",
    "plt.show()"
   ]
  },
  {
   "cell_type": "markdown",
   "metadata": {},
   "source": [
    "## ATP decay - discrete model\n",
    "While we previously approximated the spontaneous decay of ATP molecules as a continuous process, at the molecular level this decay is inherently discrete. \n",
    "\n",
    "We can describe the decay process for an individual molecule by a discrete time-step ($\\Delta t$) trajectory, where the molecule decays after $N$ time steps. The probability that a molecule will decay at every discrete time step is given by the product of the decay rate and the time interval, $p_{\\mathrm{decay}}=k\\Delta t$. Increasing the time interval grows the chances that the molecule will decay. Normalization requires that the probability that the molecule will not decay after a time $\\Delta t$ is given by $p_{\\mathrm{no-decay}}=1 - k\\Delta t$.\n",
    "\n",
    "The probability that the molecule will decay in a time interval between time $t$ and $t + \\Delta t$, i.e., after taking $N$ discrete steps of size $\\Delta t = t/N$, is therefore given by\n",
    "\n",
    "\\begin{align}\n",
    "P(t)\\Delta t = \\underbrace{(1-k\\Delta t) \\times (1-k\\Delta t) \\times \\dots \\times (1-k\\Delta t)}_{N\\text{ time steps}} \\times k\\Delta t,\n",
    "\\end{align}\n",
    "\n",
    "where $P(t)$ is the probability density. We can simplify this relation as\n",
    "\n",
    "\\begin{align}\n",
    "P(t)\\Delta t &= \\left(1-k\\Delta t\\right)^N k\\Delta t\\\\\n",
    "\\\\\n",
    "&= \\left(1-k \\frac{t}{N}\\right)^N k\\Delta t.\n",
    "\\end{align}\n",
    "\n",
    "The limit of a large number of molecules, $N\\rightarrow \\infty$, our probability density recovers the continuous distribution we obtained earlier\n",
    "\n",
    "\\begin{align}\n",
    "P(t)\\Delta t = \\lim_{N\\to\\infty} \\left(1-k \\frac{t}{N}\\right)^N k\\Delta t = e^{-kt}k\\Delta t,\n",
    "\\end{align}\n",
    "\n",
    "where we have used the indentity that $e^{-x} = \\lim_{N\\to\\infty} (1 - x/N)^N$.\n",
    "\n",
    "### Related reading\n",
    "- Chapter 15.2 of Physical Biology of the Cell"
   ]
  },
  {
   "cell_type": "markdown",
   "metadata": {},
   "source": [
    "\n",
    "##  A numerical approach for the discrete decay model\n",
    "\n",
    "### Question: How do we simulate probabilistic events?\n",
    "\n",
    "The probability of observing an event must always be normalized: the sum of the probabilities of all possible outcomes must always equal to 1. We can use a uniformly distributed random number (between 0 and 1, such as those produced by `numpy.random.random()`) to decide wether a decay event takes place given a known decay rate.\n",
    "\n",
    "<div class=\"span alert alert-success\">\n",
    "<h2> Programming challenge </h2>\n",
    "<br/>\n",
    "Starting with a known decay rate ($\\tau = 1$ and $k = 1/\\tau$), time step ($\\Delta t = 0.005$), maximum time ($t_{\\mathrm{max}}=5$), and initial number of molecules ($A_0 = 10,000$), write a code that models the discrete decay process over time. At each time step, you will need to \"probe\" each molecule to determine if it should decay during the given time interval. \n",
    "<br/>\n",
    "<br/>\n",
    "Assuming we have a random number, $R$, between 0 and 1, you can do this by comparing the value of $R$ to the probability $P(t)\\Delta t = k \\Delta t$. If the $R < k \\Delta t$ the molecule decays and otherwise you keep it. Keep track of all the moecules that decay during a time step, and subtract this from the total number of undecayed molecules, $A(t+\\Delta t) = A(t) - \\Delta A(t)$ or $A_{n+1} = A_n - \\Delta A_n$. Continue this process until you have reached the maximum time. You can do this inside a `for` or a `while` loop. Store the total number of undecayed molecules at each time step and create a plot of $A(t)/A_0$ vs $t/\\tau$ and compare to the analytical exponential solution of $A(t)=A_0e^{-k t}$.\n",
    "</div>"
   ]
  },
  {
   "cell_type": "code",
   "execution_count": null,
   "metadata": {
    "tags": []
   },
   "outputs": [],
   "source": [
    "tmax = 5\n",
    "dt = 0.005\n",
    "tau = 1.0\n",
    "k = 1.0/tau\n",
    "A0 = 10000\n",
    "\n",
    "## Insert your code here ##\n"
   ]
  },
  {
   "cell_type": "code",
   "execution_count": null,
   "metadata": {
    "tags": []
   },
   "outputs": [],
   "source": [
    "plt.figure()\n",
    "plt.plot(t/tau, A/A[0],'o',mfc='None',mec='red',label=r'$A_0$ = {0}'.format(A[0]))\n",
    "plt.plot(t/tau, np.exp(-k*t),'k-')\n",
    "plt.legend()\n",
    "plt.ylabel(r'$A(t)/A_0$')\n",
    "plt.xlabel(r'$t/\\tau$')\n",
    "plt.show()"
   ]
  },
  {
   "cell_type": "markdown",
   "metadata": {},
   "source": [
    "### What happens for lower numbers of molecules?\n",
    "<div class=\"span alert alert-success\">\n",
    "<h2> Programming challenge </h2>\n",
    "<br/>\n",
    "For simplicity, rewrite the code above for the discrete ATP decay problem as a function, `atp_decay_discrete()`, that finds the solution for $A(t)$ given some initial input values such as $A_0$, $\\Delta t$, $t_{\\mathrm{max}}$, and $\\tau$. Use this function in the code below to compare the numerical solutions for given values of $A_0=$ 1000, 100, and 10.\n",
    "</div>"
   ]
  },
  {
   "cell_type": "code",
   "execution_count": null,
   "metadata": {
    "tags": []
   },
   "outputs": [],
   "source": [
    "def atp_decay_discrete(A0, dt, tmax, tau):\n",
    "    ## insert code here ##\n",
    "\n",
    "    ##\n",
    "    return t,A\n"
   ]
  },
  {
   "cell_type": "code",
   "execution_count": null,
   "metadata": {},
   "outputs": [],
   "source": [
    "tmax = 5\n",
    "dt = 0.005\n",
    "tau = 1.0\n",
    "k = 1.0/tau\n",
    "plt.figure()\n",
    "colors = ('b', 'g', 'r')\n",
    "\n",
    "c = 0\n",
    "for A0 in (1000, 100, 10):\n",
    "    t,A = atp_decay_discrete(A0, dt, tmax, tau)\n",
    "    \n",
    "    plt.plot(t[::10]/tau, A[::10]/A[0],'o',mfc='None',mec=colors[c],label=r'$A_0$ = {0}'.format(A[0]))\n",
    "    plt.plot(t/tau,np.exp(-k*t),'k-')\n",
    "    c+=1\n",
    "\n",
    "plt.legend()\n",
    "plt.ylabel(r'$A(t)/A_0$')\n",
    "plt.xlabel(r'$t/\\tau$')\n",
    "plt.show()"
   ]
  }
 ],
 "metadata": {
  "kernelspec": {
   "display_name": "Python 3 (ipykernel)",
   "language": "python",
   "name": "python3"
  },
  "language_info": {
   "codemirror_mode": {
    "name": "ipython",
    "version": 3
   },
   "file_extension": ".py",
   "mimetype": "text/x-python",
   "name": "python",
   "nbconvert_exporter": "python",
   "pygments_lexer": "ipython3",
   "version": "3.11.7"
  }
 },
 "nbformat": 4,
 "nbformat_minor": 4
}
