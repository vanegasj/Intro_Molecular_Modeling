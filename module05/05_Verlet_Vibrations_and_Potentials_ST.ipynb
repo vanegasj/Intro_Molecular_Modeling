{
 "cells": [
  {
   "cell_type": "markdown",
   "metadata": {},
   "source": [
    "# Module 5 - Verlet, Molecular Vibrations, and Interatomic Potentials"
   ]
  },
  {
   "cell_type": "markdown",
   "metadata": {},
   "source": [
    "<img src=\"https://easyspin.org/455/_images/vib_displacement.png\" width=400px>"
   ]
  },
  {
   "cell_type": "markdown",
   "metadata": {},
   "source": [
    "## Goals\n",
    "\n",
    "- Model a diatomic molecule using a molecular dynamics simulation"
   ]
  },
  {
   "cell_type": "markdown",
   "metadata": {},
   "source": [
    "## Molecular vibrations\n",
    "\n",
    "Let's use the Verlet method to explore the vibration of a simple diatomic molecule such as $N_2$. We can start by modeling the bond between the two atoms as a simple harmonic oscillator where the force is given by $F = -kx$ and the energy is $U=\\frac{1}{2}kx^2$. Here, the equilibrium bond length corresponds to $x=0$\n",
    "\n",
    "Using the Verlet method, we can explore the time evolution of the bond by integrating the equations of motion using the recursive formula \n",
    "\n",
    "\\begin{equation}\n",
    "    x(t + \\Delta t) \\approx 2x(t) - x(t - \\Delta t) + a(t)(\\Delta t)^2.\n",
    "\\end{equation}\n",
    "\n",
    "We can write this equation more generally as\n",
    "\n",
    "\\begin{equation}\n",
    "    x(t + \\Delta t) \\approx 2x(t) - x(t - \\Delta t) + \\frac{F(t)}{m}(\\Delta t)^2\n",
    "\\end{equation}\n",
    "\n",
    "or in discrete form\n",
    "\n",
    "\\begin{equation}\n",
    "    x_{n+1} = 2x_n - x_{n-1} + \\frac{F(x_n)}{m}(\\Delta t)^2\n",
    "\\end{equation}\n",
    "\n",
    "by noting that the acceleration is given by $a(t)=F(t)/m$, from Newton's second law."
   ]
  },
  {
   "cell_type": "markdown",
   "metadata": {},
   "source": [
    "<div class=\"span alert alert-success\">\n",
    "<h2> Programming challenge </h2>\n",
    "\n",
    "Start with the `Verlet` function you created during the last module to integrate the equations of motion of the harmonic spring. Modify this function so that it takes as an additional input another function `F` which computes the force acting on the spring. This will allow us to generalize the Verlet algorithm to use any force, not just the harmonic spring. This means that the input for your Verlet function is now `Verlet(x0, k, m, F, tmax, dt)`. Inside your Verlet function, you must pass the value of $x$ to your function `F` at a every iteration: `F(x[n],k)`. This is because the force depends on the value of $x$ at every iteration.\n",
    "\n",
    "Create a separate `Fspring(x,k)` function that takes as input the current position and spring constant and returns the force. You can then use your Verlet function to get the time, positions, and velocities:     \n",
    "\n",
    "`t,x,v = Verlet(x0, k, m, Fspring, tmax, dt)`\n",
    "    \n",
    "Make 3 plots:\n",
    "<ul>\n",
    "    <li>$x(t)$ vs $t$,</li>\n",
    "    <li>$v(t)$ vs $t$,</li>\n",
    "    <li>$v(t)$ vs $x(t)$.</li>\n",
    "</ul>\n",
    "    \n",
    "The last plot is known as a phase space plot. It visualizes the possible configurational space that your system explores during the simulation."
   ]
  },
  {
   "cell_type": "code",
   "execution_count": null,
   "metadata": {
    "tags": []
   },
   "outputs": [],
   "source": [
    "import matplotlib.pyplot as plt\n",
    "import numpy as np\n",
    "%matplotlib inline\n",
    "\n",
    "# constants and intitial conditions\n",
    "k = 1 # N/m\n",
    "m = 0.1 # Kg\n",
    "dt = 0.001 # s\n",
    "tmax = 10 # s\n",
    "x0 = 0.1 # m\n",
    "\n",
    "## INSERT YOUR CODE HERE ##\n"
   ]
  },
  {
   "cell_type": "markdown",
   "metadata": {},
   "source": [
    "## Forces from other interatomic potentials\n",
    "\n",
    "Let us now consider other types of interatomic potentials. For example, bond vibrations can also be described using the so-called Morse potential:\n",
    "\n",
    "<img src=\"https://upload.wikimedia.org/wikipedia/commons/7/7a/Morse-potential.png\" width=400px>\n",
    "\n",
    "This potential is defined as\n",
    "\n",
    "\\begin{equation}\n",
    "    V(x)=D \\left( 1 - e^{-ax}\\right)^2,\n",
    "\\end{equation}\n",
    "\n",
    "which produces a force given by\n",
    "\n",
    "\\begin{equation}\n",
    "    F(x) = -\\frac{dV(x)}{dx} = -2aDe^{-ax} \\left( 1-e^{-ax} \\right)\n",
    "\\end{equation}"
   ]
  },
  {
   "cell_type": "markdown",
   "metadata": {
    "tags": []
   },
   "source": [
    "<div class=\"span alert alert-success\">\n",
    "<h2> Programming challenge </h2>\n",
    "\n",
    "Create a new function called `Fmorse(x,k)` function that computes the force given the equation above. To make it compatible with your previous Verlet function definition, use the spring constant `k` as input and inside the `Fmorse` function you can define the constants `a` and `D` as `D = 1` and `a = np.sqrt(k/2*D)`. Execute the verlet function again to get a new solution to the positions and velocities using the new force. \n",
    "    \n",
    "Make 3 plots comparing the results from the harmonic and Morse potentials:\n",
    "<ul>\n",
    "    <li>$x(t)$ vs $t$,</li>\n",
    "    <li>$v(t)$ vs $t$,</li>\n",
    "    <li>$v(t)$ vs $x(t)$.</li>\n",
    "</ul>\n",
    "    \n",
    "The last plot is known as a phase space plot. It visualizes the possible configurational space that your system explores during the simulation."
   ]
  },
  {
   "cell_type": "code",
   "execution_count": null,
   "metadata": {},
   "outputs": [],
   "source": [
    "# constants and intitial conditions\n",
    "k = 1 # N/m\n",
    "m = 0.1 # Kg\n",
    "dt = 0.001 # s\n",
    "tmax = 10 # s\n",
    "x0 = 0.1 # m\n",
    "\n",
    "## INSERT YOUR CODE HERE ##\n",
    "\n",
    "t,xH,vH = Verlet(x0, k, m, Fspring, tmax, dt)\n",
    "t,xM,vM = Verlet(x0, k, m, Fmorse, tmax, dt)\n",
    "\n",
    "plt.figure()\n",
    "# Position vs time compared to analytical solution\n",
    "plt.plot(t, xH, label='Harmonic Spring')\n",
    "plt.plot(t, xM, label='Morse potential')\n",
    "plt.xlabel('Time [s]')\n",
    "plt.ylabel(r'$x(t)$ [s]')\n",
    "plt.legend()\n",
    "\n",
    "# Velocity vs time compared to analytical solution\n",
    "plt.figure()\n",
    "plt.plot(t, vH, label='Harmonic Spring')\n",
    "plt.plot(t, vM, label='Morse potential')\n",
    "plt.xlabel('Time [s]')\n",
    "plt.ylabel(r'$v(t)$ [m/s]')\n",
    "plt.legend()\n",
    "\n",
    "# Velocity vs position\n",
    "plt.figure()\n",
    "plt.plot(xH, vH, label='Harmonic Spring')\n",
    "plt.plot(xM, vM, label='Morse Potential')\n",
    "plt.xlabel(r'$x$ [m]')\n",
    "plt.ylabel(r'$v$ [m/s]')\n",
    "plt.legend()"
   ]
  },
  {
   "cell_type": "markdown",
   "metadata": {},
   "source": [
    "<div class=\"span alert alert-success\">\n",
    "<h2> Programming challenge </h2>\n",
    "\n",
    "Change your initial conditions by increasing the value of x0 from 0.1 to 1. How do the harmonic spring and Morse solutions compare for higher energies?"
   ]
  },
  {
   "cell_type": "code",
   "execution_count": null,
   "metadata": {
    "tags": []
   },
   "outputs": [],
   "source": []
  }
 ],
 "metadata": {
  "kernelspec": {
   "display_name": "Python 3 (ipykernel)",
   "language": "python",
   "name": "python3"
  },
  "language_info": {
   "codemirror_mode": {
    "name": "ipython",
    "version": 3
   },
   "file_extension": ".py",
   "mimetype": "text/x-python",
   "name": "python",
   "nbconvert_exporter": "python",
   "pygments_lexer": "ipython3",
   "version": "3.11.7"
  }
 },
 "nbformat": 4,
 "nbformat_minor": 4
}
