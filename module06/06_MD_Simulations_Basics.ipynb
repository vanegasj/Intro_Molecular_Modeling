{
 "cells": [
  {
   "cell_type": "markdown",
   "id": "7094e26c-f154-4187-ad7c-c22553fdafc9",
   "metadata": {},
   "source": [
    "# Module 6 - MD Simulations of Simple Fluids, Lennard-Jones Potential, and Periodic Boundary Conditions"
   ]
  },
  {
   "cell_type": "markdown",
   "id": "31be5dda-84d9-40ab-9c3f-2a2c66e796c8",
   "metadata": {},
   "source": [
    "# Goals\n",
    "\n",
    "- Learn the basics of the atomic simulation environment (ASE) python library\n",
    "- Learn about periodic boundary conditions\n",
    "- Run an MD simulation of simple solids and liquids\n",
    "- Learn about non-bonded interaction potentials such as Lennard-Jones\n",
    "- Learn aboout the Maxwell-Boltzmann distribution used to set the initial velocities"
   ]
  },
  {
   "cell_type": "markdown",
   "id": "df8a04c2-560d-47f4-a571-fa7c6927cc77",
   "metadata": {},
   "source": [
    "## Setting up a Crystal with the Atomic Simulation Environment (ASE)\n",
    "\n",
    "ASE is \"*a set of tools and Python modules for setting up, manipulating, running, visualizing and analyzing atomistic simulations.*\" You can learn more about it on their website at https://wiki.fysik.dtu.dk/ase/ .\n",
    "\n",
    "Let's start by building a simple system made of a bunch of argon (Ar) atoms in a face-centered cubic lattice. We will make the crystal by stacking 2x2x2 Argon unit cells in 3D. The lattice constant of Argon is 5.25 Angstroms. To do this, we will create an ASE `atoms` object using the `FaceCenteredCubic` method that is part of the `ase.latticle.cubic`. The created `atoms` object contains information about the type and number of atoms in your system, the positions of every atom, system dimensions, etc. We will use the ASE `units` method to add the right units to our quantities to avoid problems later on."
   ]
  },
  {
   "cell_type": "code",
   "execution_count": 1,
   "id": "28bc7ce0-fe73-4084-a14b-685a830bebd2",
   "metadata": {
    "tags": []
   },
   "outputs": [],
   "source": [
    "# Start by importing some specific ASE methods\n",
    "from ase.lattice.cubic import FaceCenteredCubic\n",
    "from ase import units\n",
    "\n",
    "# Set up the crystal, which will be stored in an object called 'Ar_atoms'\n",
    "# Our system is made of 2x2x2 unit cells with a total of 32 atoms (4 atoms per unit cell).\n",
    "Ar_atoms = FaceCenteredCubic(directions=[[1, 0, 0], [0, 1, 0], [0, 0, 1]],\n",
    "                             symbol='Ar',\n",
    "                             latticeconstant=5.25*units.Ang,\n",
    "                             size=(2, 2, 2),\n",
    "                             pbc=True)"
   ]
  },
  {
   "cell_type": "markdown",
   "id": "3d97eab5-aab7-446c-ba3d-3e34eed631b0",
   "metadata": {},
   "source": [
    "We will use the built-in ASE `view` interface, part of the `ase.visualize` class to generate a 3D representation of our system. We will specify that `view` use the `nglview` (part of the NGL suite, https://nglviewer.org/) widget instead of the default `ase.gui` interface that requires an external viewer."
   ]
  },
  {
   "cell_type": "code",
   "execution_count": 2,
   "id": "1d22a689-2f78-4cd5-9547-92e8cc084687",
   "metadata": {
    "tags": []
   },
   "outputs": [
    {
     "data": {
      "application/vnd.jupyter.widget-view+json": {
       "model_id": "537a4703fdd447ffbbf9ddeac776b012",
       "version_major": 2,
       "version_minor": 0
      },
      "text/plain": []
     },
     "metadata": {},
     "output_type": "display_data"
    },
    {
     "data": {
      "application/vnd.jupyter.widget-view+json": {
       "model_id": "7cd716603e2d4794bbb4f8d9314c74e8",
       "version_major": 2,
       "version_minor": 0
      },
      "text/plain": [
       "HBox(children=(NGLWidget(), VBox(children=(Dropdown(description='Show', options=('All', 'Ar'), value='All'), D…"
      ]
     },
     "execution_count": 2,
     "metadata": {},
     "output_type": "execute_result"
    }
   ],
   "source": [
    "# Use the ASE viewer interface together with nglview to visualize the atoms\n",
    "# Use the left mouse button to rotate the model\n",
    "# Use scrolling to zoom in and out of the system\n",
    "# The yellow box delimits the extent of the symulated system\n",
    "\n",
    "from ase.visualize import view\n",
    "view(atoms=Ar_atoms, viewer='ngl')"
   ]
  },
  {
   "cell_type": "markdown",
   "id": "bd479e5a-6da1-4cef-b16f-aa677d27dc2a",
   "metadata": {},
   "source": [
    "## Periodic Boundary Conditions\n",
    "Although we are simulating a finite system (32 atoms total = 8 cells x 4 atoms/cell), we are going to model it as an infinitely periodic array using periodic boundary conditions (PBCs). To do this, our simulated system 'lives' inside a simulation cell or 'box' which is described by a set of 3 dimensions and 3 angles in the most general triclinic cell:\n",
    "\n",
    "<center><img src=\"https://upload.wikimedia.org/wikipedia/commons/1/17/Triclinic.svg\" width=200px></center>\n",
    "\n",
    "For our purposes, we will deal with simple rectangular boxes where all three angles of the simulation cell are equal to 90 degrees, altough each dimension of the box can be different (i.e., the simulation cell does not need to be cubic). Using PBCs then assumes that our simulation cell is infinitely stacked along every dimension:\n",
    "\n",
    "<center><img src=\"https://upload.wikimedia.org/wikipedia/commons/2/2e/Minimum_Image_Convention.png\" width=400px></center>\n",
    "\n",
    "PBCs allow us to avoid having artificial edges where the particles/molecules are exposed to vacuum and are not interacting with any other molecules. When working with PBCs, we also impose the **minimum image convention** - particles only interact with particles that are in the neighboring image that is closest to them. This means that while particles have an infinite number of neighbors, they only interact with other particles if the distance along every dimension is less than half of the box size in that given dimension.\n",
    "\n",
    "<center><img src=\"https://computecanada.github.io/molmodsim-md-theory-lesson-novice/fig/periodic_boundary-4.svg\" width=500px></center>\n",
    "\n"
   ]
  },
  {
   "cell_type": "markdown",
   "id": "e92364ae-09b4-41f3-8b30-61197049395b",
   "metadata": {},
   "source": [
    "## The Lennard-Jones Potential\n",
    "\n",
    "Now that we have a starting structure for our system, how are the particles going to interact with each other? One commonly used interatomic potential is known as the Lennard-Jones or 12-6 potential. This potential is named after Sir John Edward Lennard Jones who studied the attractive forces, also known as van der Waals or London dispersion forces, in noble gases. The Lennard-Jones potential is composed of an attractive component that decays proportionally to $1/r^6$, where $r$ is the distance between particles, and a repulsive term that rapidly grows proportionally to $1/r^{12}$ to keep particles from getting too close to each other (i.e., from Pauli repulsion forces). The $1/r^6$ attractive term is obtained analitically by quantifying the forces due to the spontaneous fluctuations in the electron clouds of atoms, while the $1/r^{12}$ relationship is chosen ad-hoc for numerical efficiency reasons as one can compute it as the square of the attractive term, $1/r^{12}=1/(r^6)^2$. The full potential is written as\n",
    "\n",
    "\\begin{equation}\n",
    "    V_{\\mathrm{LJ}}(r) = 4 \\epsilon \\left[ \\left( \\frac{\\sigma}{r} \\right) ^{12} - \\left( \\frac{\\sigma}{r} \\right) ^6 \\right],\n",
    "\\end{equation}\n",
    "\n",
    "where $\\sigma$ is the effective particle radius and $\\epsilon$ is the depth of the energy well as shown below:\n",
    "<center><img src=\"https://computecanada.github.io/molmodsim-md-theory-lesson-novice/fig/lj.svg\" width=500px></center>\n",
    "\n",
    "Some sources use the alternative notation of \n",
    "\n",
    "\\begin{equation}\n",
    "    V_{\\mathrm{LJ}}(r) = \\frac{C_{12}}{r^{12}} - \\frac{C_6}{r^6},\n",
    "\\end{equation}\n",
    "\n",
    "where $C_{12}=4 \\epsilon \\sigma^{12}$ and $C_{6}=4 \\epsilon \\sigma^{6}$.\n",
    "\n",
    "The force due to the Lennard-Jones potential is given by the derivative with respect to the particle distance:\n",
    "\n",
    "\\begin{equation}\n",
    "     F_{\\mathrm{LJ}}(r) = -\\frac{\\partial V_{\\mathrm{LJ}}(r)}{\\partial r}  = 24 \\epsilon \\left[ 2\\left( \\frac{\\sigma}{r} \\right) ^{12} - \\left( \\frac{\\sigma}{r} \\right) ^6 \\right].\n",
    "\\end{equation}\n",
    "\n",
    "### Using the `LennardJones` calculator in ASE\n",
    "\n",
    "ASE has a built-in `calculator` that automatically computes interatomic forces for a given system using the Lennard-Jones potential. An ASE `calculator` is a method that takes as input an `atoms` object and computes quantities such as the forces and total energy (among many others) for a particular configuration. ASE `calculators` may execute internal built-in methods or external programs that can simulate systems using a variety of classical or *ab initio* methods. We will import the `LennardJones` calculator and add it to our `atoms` object. We also need to tell our calculator the specific values of the potential for Ar including $\\sigma=3.4~\\unicode[serif]{xC5}$, $\\epsilon=0.9889744$ kJ/mol, and the cutoff radius, $r_c=15~\\unicode[serif]{xC5}$. The cutoff radius is used to speed-up calculations by limiting the number of neighbors that particles interact with. A cutoff radius of $10-15~\\unicode[serif]{xC5}$ is used for most Lennard-Jones potentials in MD simulations.  "
   ]
  },
  {
   "cell_type": "code",
   "execution_count": 3,
   "id": "c6a4753b-1257-48f3-99b0-c2377758e9cc",
   "metadata": {
    "tags": []
   },
   "outputs": [],
   "source": [
    "from ase.calculators.lj import LennardJones as LJ\n",
    "\n",
    "# Describe the interatomic interactions using a Lennard-Jones potential\n",
    "Ar_atoms.calc = LJ(sigma=3.4*units.Ang, epsilon=0.9889744*units.kJ/units.mol, rc=15*units.Ang)"
   ]
  },
  {
   "cell_type": "markdown",
   "id": "b9575f2d-f577-49a0-95a8-1a275fd9b267",
   "metadata": {},
   "source": [
    "## Initial Velocities and the Maxwell-Boltzmann Distribution\n",
    "\n",
    "When running a molecular dynamics simulation we need to know the initial particle velocities in addition to the initial positions in order to use the Verlet algorithm to propagate the equations of motion in time. While we could just set the initial velocities to zero, this is equivalent to setting the initial temperature of the system to zero. A better approach is to use the Maxwell-Boltzmann distribution, which states that the particle velocities in an ideal gas follow the relationship\n",
    "\n",
    "\\begin{equation}\n",
    "    P(v)= \\left[ \\frac{m}{2\\pi k_{\\mathrm{B}}T} \\right]^{\\frac{3}{2}} 4 \\pi v^2 \\exp \\left( -\\frac{mv^2}{2k_{\\mathrm{B}}T} \\right),\n",
    "\\end{equation}\n",
    "\n",
    "where $m$ is the particle mass, $v=|\\vec{v}|$ is the velocity, $k_{\\mathrm{B}}$ is Boltzmann's constant, and $T$ is the temperature. \n",
    "\n",
    "<center><img src=\"https://tikz.net/janosh/maxwell-boltzmann-dist.png\" width=500px></center>\n",
    "\n",
    "To use the Maxwell-Boltzmann distribution we randomly assign particle velocities such that they follow the $P(v)$ distribution above. We will use the `MaxwellBoltzmannDistribution` method from the `ase.md.velocitydistribution` class to set the initial velocities according to a temperature of 40 K - this will keep our Ar crystal in the solid phase."
   ]
  },
  {
   "cell_type": "code",
   "execution_count": 4,
   "id": "8fac4353-33ae-448d-b861-a374cde5269b",
   "metadata": {
    "tags": []
   },
   "outputs": [],
   "source": [
    "from ase.md.velocitydistribution import MaxwellBoltzmannDistribution\n",
    "\n",
    "# Set the initial particle velocities using a Maxwell-Boltzmann distribution for a given temperature\n",
    "MaxwellBoltzmannDistribution(atoms=Ar_atoms, temperature_K=40)"
   ]
  },
  {
   "cell_type": "markdown",
   "id": "1448dd1f-be16-4bdf-bac7-2d80f3134020",
   "metadata": {},
   "source": [
    "## Running an MD Simulation Using the `VelocityVerlet` Method\n",
    "\n",
    "We are now ready to run our MD simulation! We will first create a new instance called `md` using the `VelocityVerlet` method from the `ase.md.verlet` class. The `VelocityVerlet` method takes as input the `Ar_atoms` object we created earlier, the timestep (5 femtoseconds is adequate for our system), a trajectory file to store the positions and velocities of our system over time, and the interval to write to the trajectory file. Once the `md` instance is created, you can run it for a given number of steps (e.g., 100) by executing `md.run(100)`. Let's put it all together:"
   ]
  },
  {
   "cell_type": "code",
   "execution_count": 5,
   "id": "fd881805-e2d8-4b31-8013-900496174494",
   "metadata": {
    "tags": []
   },
   "outputs": [
    {
     "data": {
      "text/plain": [
       "True"
      ]
     },
     "execution_count": 5,
     "metadata": {},
     "output_type": "execute_result"
    }
   ],
   "source": [
    "# Start by importing some specific ASE methods\n",
    "from ase.lattice.cubic import FaceCenteredCubic\n",
    "from ase import units\n",
    "from ase.calculators.lj import LennardJones as LJ\n",
    "from ase.md.velocitydistribution import MaxwellBoltzmannDistribution\n",
    "from ase.md.verlet import VelocityVerlet\n",
    "\n",
    "\n",
    "# Set up the crystal, which will be stored in an object called 'Ar_atoms'\n",
    "# Our system is made of 2x2x2 unit cells with a total of 32 atoms (4 atoms per unit cell).\n",
    "Ar_atoms = FaceCenteredCubic(directions=[[1, 0, 0], [0, 1, 0], [0, 0, 1]],\n",
    "                             symbol='Ar',\n",
    "                             latticeconstant=5.25*units.Ang,\n",
    "                             size=(2, 2, 2),\n",
    "                             pbc=True)\n",
    "\n",
    "# Describe the interatomic interactions using a Lennard-Jones potential\n",
    "Ar_atoms.calc = LJ(sigma=3.4*units.Ang, epsilon=0.9889744*units.kJ/units.mol, rc=15*units.Ang)\n",
    "\n",
    "# Set the initial particle velocities using a Maxwell-Boltzmann distribution for a given temperature\n",
    "MaxwellBoltzmannDistribution(atoms=Ar_atoms, temperature_K=40)\n",
    "\n",
    "# Setup an md instance based on our `Ar_atoms` object\n",
    "md = VelocityVerlet(atoms=Ar_atoms, timestep=5*units.fs, trajectory='md.traj', loginterval=10)  # 5 fs time step.\n",
    "\n",
    "# run the simulation for 100 steps\n",
    "md.run(100)"
   ]
  },
  {
   "cell_type": "markdown",
   "id": "8cbfa188-0ad5-4c4f-ad95-70b7ba2a1a8e",
   "metadata": {},
   "source": [
    "We'll need to load the trajectory file as an ASE `Trajectory` object before we can visualize it."
   ]
  },
  {
   "cell_type": "code",
   "execution_count": 6,
   "id": "d11e7e89-ecec-4441-b96f-99886b35b01c",
   "metadata": {
    "tags": []
   },
   "outputs": [
    {
     "data": {
      "application/vnd.jupyter.widget-view+json": {
       "model_id": "b18b7546c18642f59586fb6e59c117b4",
       "version_major": 2,
       "version_minor": 0
      },
      "text/plain": [
       "HBox(children=(NGLWidget(max_frame=10), VBox(children=(Dropdown(description='Show', options=('All', 'Ar'), val…"
      ]
     },
     "execution_count": 6,
     "metadata": {},
     "output_type": "execute_result"
    }
   ],
   "source": [
    "from ase.visualize import view\n",
    "from ase.io.trajectory import Trajectory\n",
    "\n",
    "# Load the trajectory from file\n",
    "traj = Trajectory('md.traj')\n",
    "view(traj, viewer='ngl')"
   ]
  },
  {
   "cell_type": "markdown",
   "id": "0f36ed1d-7002-4538-bd33-b8267e84d810",
   "metadata": {},
   "source": [
    "<div class=\"span alert alert-success\">\n",
    "<h2> Programming challenge </h2>\n",
    "    \n",
    "Modify the code above to increase the number of steps to 1000 and run the simulation again. This should take about 30 s. Visually inspect the trajectory by rotating the model and replaying the movie. What do you observe? **The system appears to be drifting!!** \n",
    "    \n",
    "The reason the entire crystal appears to be drifting out of the simulation box is because the process of assigning initial velocities from the Maxwell-Boltzmann distribution can result in a net velocity of the center of mass, $\\vec{v}_{\\mathrm{COM}}= \\frac{1}{M} \\sum m_i \\vec{v}_i \\neq 0$. We can fix this in our script by calling the `ase.md.velocitydistribution.Stationary` method after the call to `MaxwellBoltzmannDistribution`.\n",
    "    \n",
    "Copy the working code above and paste it in the cell below. Modify it to import the `Stationary` method from `ase.md.velocitydistribution`. Call `Stationary(Ar_atoms)` after calling `MaxwellBoltzmannDistribution(atoms=Ar_atoms, temperature_K=40)`. Execute and visualize your code again. Do you still see a drift in the system?"
   ]
  },
  {
   "cell_type": "code",
   "execution_count": null,
   "id": "c0790385-07ba-4079-b07b-455cf810c5ba",
   "metadata": {},
   "outputs": [],
   "source": [
    "# Start by importing some specific ASE methods\n",
    "from ase.lattice.cubic import FaceCenteredCubic\n",
    "from ase import units\n",
    "from ase.calculators.lj import LennardJones as LJ\n",
    "from ase.md.velocitydistribution import MaxwellBoltzmannDistribution,Stationary\n",
    "from ase.md.verlet import VelocityVerlet\n",
    "\n",
    "\n",
    "# Set up the crystal, which will be stored in an object called 'Ar_atoms'\n",
    "# Our system is made of 2x2x2 unit cells with a total of 32 atoms (4 atoms per unit cell).\n",
    "Ar_atoms = FaceCenteredCubic(directions=[[1, 0, 0], [0, 1, 0], [0, 0, 1]],\n",
    "                             symbol='Ar',\n",
    "                             latticeconstant=5.25*units.Ang,\n",
    "                             size=(2, 2, 2),\n",
    "                             pbc=True)\n",
    "\n",
    "# Describe the interatomic interactions using a Lennard-Jones potential\n",
    "Ar_atoms.calc = LJ(sigma=3.4*units.Ang, epsilon=0.9889744*units.kJ/units.mol, rc=15*units.Ang)\n",
    "\n",
    "# Set the initial particle velocities using a Maxwell-Boltzmann distribution for a given temperature\n",
    "MaxwellBoltzmannDistribution(atoms=Ar_atoms, temperature_K=40)\n",
    "Stationary(Ar_atoms)\n",
    "\n",
    "# Setup an md instance based on our `Ar_atoms` object\n",
    "md = VelocityVerlet(atoms=Ar_atoms, timestep=5*units.fs, trajectory='md.traj', loginterval=10)  # 5 fs time step.\n",
    "\n",
    "# run the simulation for 1000 steps\n",
    "md.run(1000)"
   ]
  },
  {
   "cell_type": "code",
   "execution_count": null,
   "id": "65d2e57d-d538-45fb-97ae-fbc6fd39ef26",
   "metadata": {},
   "outputs": [],
   "source": [
    "# Load the trajectory from file\n",
    "traj = Trajectory('md.traj')\n",
    "view(traj, viewer='ngl')"
   ]
  },
  {
   "cell_type": "markdown",
   "id": "e534a8b6-8508-4d06-903f-b398a234ecff",
   "metadata": {},
   "source": [
    "## Simulating Liquid Argon\n",
    "\n",
    "We can readily simulate liquid Argon by increasing the initial temperature of the Maxwell-Boltzmann distribution as well as increasing the box size in order to accomodate for the lower density of the liquid.\n",
    "\n",
    "<div class=\"span alert alert-success\">\n",
    "<h2> Programming challenge </h2>\n",
    "\n",
    "Copy the working code above and paste it in the cell below. Modify the code so that the lattice constant is increased by 15 % and the initial temperature is 150 K. Execute your code for 1000 steps and visualize the trajectory."
   ]
  },
  {
   "cell_type": "code",
   "execution_count": null,
   "id": "53b18f65-5551-4b29-86c0-882765d3edc5",
   "metadata": {
    "tags": []
   },
   "outputs": [],
   "source": [
    "# Set up the crystal, which will be stored in an object called 'Ar_atoms'\n",
    "# Our system is made of 2x2x2 unit cells with a total of 32 atoms (4 atoms per unit cell).\n",
    "Ar_atoms = FaceCenteredCubic(directions=[[1, 0, 0], [0, 1, 0], [0, 0, 1]],\n",
    "                             symbol='Ar',\n",
    "                             latticeconstant=1.15*5.25*units.Ang,\n",
    "                             size=(2, 2, 2),\n",
    "                             pbc=True)\n",
    "\n",
    "# Describe the interatomic interactions using a Lennard-Jones potential\n",
    "Ar_atoms.calc = LJ(sigma=3.4*units.Ang, epsilon=0.9889744*units.kJ/units.mol, rc=15*units.Ang)\n",
    "\n",
    "# Set the initial particle velocities using a Maxwell-Boltzmann distribution for a given temperature\n",
    "MaxwellBoltzmannDistribution(atoms=Ar_atoms, temperature_K=150)\n",
    "Stationary(Ar_atoms)\n",
    "\n",
    "# Setup an md instance based on our `Ar_atoms` object\n",
    "md = VelocityVerlet(atoms=Ar_atoms, timestep=5*units.fs, trajectory='md.traj', loginterval=10)  # 5 fs time step.\n",
    "\n",
    "# run the simulation for 1000 steps\n",
    "md.run(1000)"
   ]
  },
  {
   "cell_type": "code",
   "execution_count": null,
   "id": "ef440d70-19f8-4ae9-881d-1e2acf7a38d6",
   "metadata": {
    "tags": []
   },
   "outputs": [],
   "source": [
    "# Load the trajectory from file\n",
    "traj = Trajectory('md.traj')\n",
    "view(traj, viewer='ngl')"
   ]
  },
  {
   "cell_type": "code",
   "execution_count": null,
   "id": "2acbc175-86c2-4841-b43c-718020533342",
   "metadata": {
    "tags": []
   },
   "outputs": [],
   "source": [
    "\n"
   ]
  }
 ],
 "metadata": {
  "kernelspec": {
   "display_name": "Python 3 (ipykernel)",
   "language": "python",
   "name": "python3"
  },
  "language_info": {
   "codemirror_mode": {
    "name": "ipython",
    "version": 3
   },
   "file_extension": ".py",
   "mimetype": "text/x-python",
   "name": "python",
   "nbconvert_exporter": "python",
   "pygments_lexer": "ipython3",
   "version": "3.11.7"
  }
 },
 "nbformat": 4,
 "nbformat_minor": 5
}
